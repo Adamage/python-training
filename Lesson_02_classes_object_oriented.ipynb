{
 "cells": [
  {
   "cell_type": "markdown",
   "metadata": {},
   "source": [
    "# Python Training - Lession 2 - classes in Object Oriented Programming\n",
    "In Python, pretty much every variable is an object, and therefore an instance of some class. But what is a class? A first, basic understanding of a class should be:\n",
    "    A data structure with named variables and functions.\n",
    "\n",
    "At this stage of programming, the simpler we keep things, the better. Let's see how we can define a class.\n"
   ]
  },
  {
   "cell_type": "markdown",
   "metadata": {},
   "source": [
    "### Simple class definition"
   ]
  },
  {
   "cell_type": "code",
   "execution_count": 21,
   "metadata": {},
   "outputs": [],
   "source": [
    "class Example:\n",
    "    a = 1"
   ]
  },
  {
   "cell_type": "code",
   "execution_count": 22,
   "metadata": {},
   "outputs": [
    {
     "name": "stdout",
     "output_type": "stream",
     "text": [
      "<type 'classobj'>\n"
     ]
    }
   ],
   "source": [
    "print type(Example)"
   ]
  },
  {
   "cell_type": "markdown",
   "metadata": {},
   "source": [
    "### Creating objects - instances of a class"
   ]
  },
  {
   "cell_type": "code",
   "execution_count": 23,
   "metadata": {},
   "outputs": [
    {
     "name": "stdout",
     "output_type": "stream",
     "text": [
      "<__main__.Example instance at 0x0000000005A88C48>\n"
     ]
    }
   ],
   "source": [
    "object_from_class = Example()\n",
    "print object_from_class"
   ]
  },
  {
   "cell_type": "markdown",
   "metadata": {},
   "source": [
    "### Accessing objects 'fields'"
   ]
  },
  {
   "cell_type": "code",
   "execution_count": 24,
   "metadata": {},
   "outputs": [
    {
     "data": {
      "text/plain": [
       "1"
      ]
     },
     "execution_count": 24,
     "metadata": {},
     "output_type": "execute_result"
    }
   ],
   "source": [
    "object_from_class.a"
   ]
  },
  {
   "cell_type": "markdown",
   "metadata": {},
   "source": [
    "### What are class variables and instance variables?\n",
    "Class variables are variables attached to the definition of a class. Simply, they are just regular variable definitions inside a class\n",
    "Instance variables are variables created for each instance of a class. We denote them by adding \"self.\" in front of them. \n",
    "Examples:"
   ]
  },
  {
   "cell_type": "code",
   "execution_count": 25,
   "metadata": {},
   "outputs": [],
   "source": [
    "class ClassI:\n",
    "    # Define instance variables in a special method, called a \"constructor\", that defines what happens when an object is created.\n",
    "    def __init__(self):\n",
    "        self.a = 1\n",
    "        self.b = 2\n",
    "\n",
    "class ClassC:\n",
    "    # Define class variables normally. They are here, whether you create an object or not.\n",
    "    a = 3\n",
    "    b = 44"
   ]
  },
  {
   "cell_type": "code",
   "execution_count": 26,
   "metadata": {},
   "outputs": [
    {
     "name": "stdout",
     "output_type": "stream",
     "text": [
      "3 44\n",
      "3\n"
     ]
    }
   ],
   "source": [
    "instance_of_ClassC = ClassC()\n",
    "print instance_of_ClassC.a, instance_of_ClassC.b \n",
    "\n",
    "print ClassC.a"
   ]
  },
  {
   "cell_type": "code",
   "execution_count": 27,
   "metadata": {},
   "outputs": [
    {
     "name": "stdout",
     "output_type": "stream",
     "text": [
      "1 2\n"
     ]
    },
    {
     "ename": "AttributeError",
     "evalue": "class ClassI has no attribute 'a'",
     "output_type": "error",
     "traceback": [
      "\u001b[1;31m---------------------------------------------------------------------------\u001b[0m",
      "\u001b[1;31mAttributeError\u001b[0m                            Traceback (most recent call last)",
      "\u001b[1;32m<ipython-input-27-692a80d5a904>\u001b[0m in \u001b[0;36m<module>\u001b[1;34m()\u001b[0m\n\u001b[0;32m      3\u001b[0m \u001b[1;33m\u001b[0m\u001b[0m\n\u001b[0;32m      4\u001b[0m \u001b[1;31m# This will cause an error, because to access instance variables, you need an instance of class!\u001b[0m\u001b[1;33m\u001b[0m\u001b[1;33m\u001b[0m\u001b[0m\n\u001b[1;32m----> 5\u001b[1;33m \u001b[1;32mprint\u001b[0m \u001b[0mClassI\u001b[0m\u001b[1;33m.\u001b[0m\u001b[0ma\u001b[0m\u001b[1;33m\u001b[0m\u001b[0m\n\u001b[0m",
      "\u001b[1;31mAttributeError\u001b[0m: class ClassI has no attribute 'a'"
     ]
    }
   ],
   "source": [
    "instance_of_ClassI = ClassI()\n",
    "print instance_of_ClassI.a, instance_of_ClassI.b\n",
    "\n",
    "# This will cause an error, because to access instance variables, you need an instance of class!\n",
    "print ClassI.a"
   ]
  },
  {
   "cell_type": "markdown",
   "metadata": {},
   "source": [
    "# So what's up with that Object Oriented Programming?\n",
    "## Loose definition\n",
    "It is a kind of methodology and a set of rules for programming. Loosely speaking, it means that we should split our data and functionalities into _classes_ with _methods_ (functions), to follow a specific set of principles.\n",
    "\n",
    "## Some definitions.\n",
    "- Class - a distinct set of variables and procedures, centered around one thing, to store data, and do operations on that data, to communicate, and other stuff.\n",
    "- Field = attribute = a variable defined in a class\n",
    "- Method = procedure - a set of instructions defined in a class\n",
    "- Static method - a function defined in a class, but that does not actually require to create an object of that class!\n",
    "- Self - when a method or field uses 'self', it means it targets the object with which they are associated - \"this\", \"the object I am inside right now\", \"the object on which I was invoked\"\n",
    "- Type - to which class does an object correspond, of which class it is an instance of\n",
    "\n",
    "## Inheritance, composition, relationships.\n",
    "You will often use words like \"parent\" or \"child\", when talking about classes. THe main reason they are used in this context, is to indicate the hierarchy of inheritance. But what is inheritance?\n",
    "\n",
    "Imagine now, you create a class, which fields are actually objects of other classes. This is _composition_. It means your objects HAVE other objects. We call this \"has-a\" relationship.\n",
    "\n",
    "Now imagine, you want to write classes representing various jobs in some company. So you write classes \"Driver\", \"Recruiter\", \"Boss\". Now you start to think what they would do, and quickly realise there are many things they share, for example, they can get a salary, can leave work, have a break, etc.\n",
    "\n",
    "The most simple thing would be to write procedures for those actions, separately in each class. But thanks to inheritance, you would need to write it only once, in a BASE CLASS named \"Employee\". THen, all the others would INHERIT from this base class, getting all those methods for free.\n",
    "You could say, that \"Driver' is an \"Employee\", and so is \"Recruiter\". We call this \"is-a\" relationship.\n",
    "\n",
    "You can mix those relationships together, to reuse code whenever possible. A rule of thumb is to use inheritance only when it really is the best thing to do, and not overdo it. Excessive inheritance actually looses all advantages of inheritance, and causes lot's of troubles in big projects (it is hard to modify the hierarchy). Another rule of thumb is, that usually inheritance is really good for very similar things, for storing data, and sharing data and procedures when we have a big amount of classes. \n",
    "\n",
    "## Polymorphism.\n",
    "In simple words, this means that you do not care from which class in hierarchy some method comes from.\n",
    "Even simpler, that you create your code, you do not worry if some object is an instance of the base class, it's children, or grandchildren, you should be able to use the same methods on each of them.\n",
    "\n",
    "# Principles of OOP - SOLID\n",
    "The five basic principles describe how to best write classes. Take your time to learn them, and do not rush into advanced programming before understanding these principles. OOP is a paradigm. There are others, like \"functional programming\", with their own design patterns and principles. This tutorial's scope is \"beginner friendly\", so we will skip this for now, but come back to them as soon as you feel you can understand them.\n",
    "https://en.wikipedia.org/wiki/SOLID_(object-oriented_design)\n",
    "\n",
    "\n",
    "# What does this mean in practice?\n",
    "To write programs, you will need to write code that is readable, powerful and easily modified - using modularity, reusability, algorithms. Python is a language that allows to use all kinds of programming, not only OOP, to suit best your goals.\n",
    "In practice, we will creates all kinds of Python files:\n",
    "- libraries of functions\n",
    "- file with a class definition - only to model data\n",
    "- file with a class definition - as a \"library\" with data _AND_ tools that operate on them\n",
    "- file with the main program - our entry point into running what we wanted to do\n",
    "- file with test cases - to check if our program works correctly\n",
    "- ...\n",
    "\n",
    "From my perspective, design patterns and efficient, clear code is more important than sticking to one paradigm for no reason. For example, you do not need a class just for one method. You also do not need a class if all your methods are static, which means they do not need any \"state\", like an instance of an object that has a certain state during it's lifetime. Look at this code for example:\n",
    "\n"
   ]
  },
  {
   "cell_type": "code",
   "execution_count": null,
   "metadata": {},
   "outputs": [],
   "source": [
    "# Let's define some functions.\n",
    "def multiply(a,b):\n",
    "    return a*b\n",
    "\n",
    "def count_letter_in_word(word, letter):\n",
    "    track_letters = {}\n",
    "    for character in word:\n",
    "        if character in track_letters:\n",
    "            track_letters[character] += 1\n",
    "        else:\n",
    "            track_letters[character] = 1\n",
    "\n",
    "    if letter in track_letters:\n",
    "        return track_letters[letter]\n",
    "    else:\n",
    "        return 0\n",
    "        "
   ]
  },
  {
   "cell_type": "code",
   "execution_count": null,
   "metadata": {},
   "outputs": [],
   "source": [
    "# Let's define a class to store a model of data.\n",
    "# This time, we put more parameters for the constructor: name and age. This allows us to fill the object during the creation.\n",
    "class Person:\n",
    "    def __init__(self, name, age):\n",
    "        self.name = name\n",
    "        self.age = age"
   ]
  },
  {
   "cell_type": "code",
   "execution_count": null,
   "metadata": {},
   "outputs": [],
   "source": [
    "# Now let's use our code.\n",
    "adam = Person(\"Adam\", 18)\n",
    "print count_letter_in_word(adam.name, \"a\")\n",
    "print multiply(adam.age, 10)"
   ]
  },
  {
   "cell_type": "markdown",
   "metadata": {},
   "source": [
    "If I put those functions in class \"Person\" definition, only my class would have those methods.\n",
    "If I put those functions in a separate class, like \"Tools\", it is also bad, because they do not have \"self\" inside, they do not need any additional data to work. We can say they are \"stateless\" or \"static\", and they can just lie around loosely in a separate file.\n",
    "Now we should have some understanding of how and when to put procedures in which files.\n",
    "\n",
    "Remember:\n",
    "- procedure in class is a method\n",
    "- a stateless procedure in a class _should be_ a class method, if it needs data from that class\n",
    "- a stateless procedure that does not need anything (only arguments) is a function and should be kept in a separate file without a class\n",
    "\n",
    "Inheritance and composition summary:\n",
    "Use composition when you can = compose objects from other objects\n",
    "For obvious code duplication and shared data/methods/strategy/abstraction - use inheritance"
   ]
  }
 ],
 "metadata": {
  "kernelspec": {
   "display_name": "Python 2",
   "language": "python",
   "name": "python2"
  },
  "language_info": {
   "codemirror_mode": {
    "name": "ipython",
    "version": 2
   },
   "file_extension": ".py",
   "mimetype": "text/x-python",
   "name": "python",
   "nbconvert_exporter": "python",
   "pygments_lexer": "ipython2",
   "version": "2.7.13"
  }
 },
 "nbformat": 4,
 "nbformat_minor": 2
}
