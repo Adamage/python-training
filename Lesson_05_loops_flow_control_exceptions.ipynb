{
 "cells": [
  {
   "cell_type": "markdown",
   "metadata": {},
   "source": [
    "# Python Training - Lesson 5 - loops, flow control and exceptions\n",
    "\n",
    "Now that we have seen some basics in action, let's summarize what we should already know by this point:\n",
    "- types and their methods\n",
    "- classes and objects\n",
    "- simple condition checks with \"if\"\n",
    "- using imported libraries"
   ]
  },
  {
   "cell_type": "markdown",
   "metadata": {},
   "source": [
    "## Theory level 2\n",
    "In this lesson, we will do some more elaborate exercises, that need more than simple conditions and looping over a collection.\n",
    "\n",
    "We will use the following constructs:\n",
    "#### \"for\" loop\n",
    "#### \"while\" loop\n",
    "#### \"break\", \"continue\", \"raise Exception\", \"return\" keywords to navigate through an algorithm\n",
    "####  condition checking using \"if\"\n",
    "####  enumerate, zip\n",
    "####  unpacking\n",
    "####  opening files using \"with\"\n",
    "####  lambda functions\n",
    "####  map, filter, reduce"
   ]
  },
  {
   "cell_type": "markdown",
   "metadata": {},
   "source": [
    "## Example interview task - \"FizzBuzz\"\n",
    "### Task description\n",
    "Count from 0 to 100. Every three repetitions, print \"Fizz\". Every five repetitions, print \"Buzz\". When both of them should be printed, print \"FizzBuzz\".\n",
    "###  Breaking it down\n",
    "Every 3 loop passes - print \"Fizz\"\n",
    "Every 5 loop passes - print \"Buzz\"\n",
    "Every 15 loop passes - print \"FizzBuzz\"\n"
   ]
  },
  {
   "cell_type": "markdown",
   "metadata": {},
   "source": [
    "#### How to count from 0 to 100?\n",
    "We have two basic loops.\n",
    "\n",
    "##### - For \n",
    "It will do exactly X repetition, no more, no less, will only do other amount when an error occurs or the loop is exited."
   ]
  },
  {
   "cell_type": "code",
   "execution_count": null,
   "metadata": {},
   "outputs": [],
   "source": [
    "for i in range(0,100):   \n",
    "    pass"
   ]
  },
  {
   "cell_type": "markdown",
   "metadata": {},
   "source": [
    "##### - While\n",
    "Will run until the condition is satisfied. Will stop on exception, or when loop is exited."
   ]
  },
  {
   "cell_type": "code",
   "execution_count": null,
   "metadata": {},
   "outputs": [],
   "source": [
    "i = 0\n",
    "while i < 100:\n",
    "    i = i + 1"
   ]
  },
  {
   "cell_type": "markdown",
   "metadata": {},
   "source": [
    "#### How to do something \"every N repetitions\"\n",
    "We can do it the lame way, with a counter. And we can do it the smart way, with dividing and the \"remainder of dividing\" (modulo)."
   ]
  },
  {
   "cell_type": "code",
   "execution_count": null,
   "metadata": {},
   "outputs": [],
   "source": [
    "# The lame way.\n",
    "i = 0\n",
    "counter = 0\n",
    "while i < 10:\n",
    "    counter += 1\n",
    "    if counter == 3:\n",
    "        print(\"We did something every 3-rd time\")\n",
    "        counter = 0\n",
    "    i += 1"
   ]
  },
  {
   "cell_type": "code",
   "execution_count": null,
   "metadata": {},
   "outputs": [],
   "source": [
    "# The smart way.\n",
    "for i in range(0,10):\n",
    "    if i % 3 == 0:\n",
    "        print(\"We did something every 3-rd time\")"
   ]
  },
  {
   "cell_type": "markdown",
   "metadata": {},
   "source": [
    "It's not exactly right, isn't it? Why are there 4 repetitions? It's because we start from 0. 0 divided by integer>0 gives always 0 remainder."
   ]
  },
  {
   "cell_type": "code",
   "execution_count": null,
   "metadata": {},
   "outputs": [],
   "source": [
    "0 % 3"
   ]
  },
  {
   "cell_type": "code",
   "execution_count": null,
   "metadata": {},
   "outputs": [],
   "source": [
    "# The fixed smart way.\n",
    "for i in range(1,11):\n",
    "    if i % 3 == 0:\n",
    "        print(\"We did something every 3-rd time\")"
   ]
  },
  {
   "cell_type": "code",
   "execution_count": null,
   "metadata": {},
   "outputs": [],
   "source": [
    "# The FizzBuzz\n",
    "for i in range(1,101):\n",
    "    if i % 15 == 0:\n",
    "        print(\"FizzBuzz\")\n",
    "    elif i % 5 == 0:\n",
    "        print(\"Buzz\")\n",
    "    elif i % 3 == 0:\n",
    "        print(\"Fizz\")"
   ]
  },
  {
   "cell_type": "markdown",
   "metadata": {},
   "source": [
    "## Flow control\n",
    "\n",
    "Sometimes, we do not want to do all loop iterations. Sometimes, we want to:\n",
    "\n",
    "### continue - Skip this whole loop iteration, from this moment, and go to next loop iteration"
   ]
  },
  {
   "cell_type": "code",
   "execution_count": null,
   "metadata": {},
   "outputs": [],
   "source": [
    "for i in range(0,4):\n",
    "    if i == 2:\n",
    "        continue\n",
    "    print(i)"
   ]
  },
  {
   "cell_type": "markdown",
   "metadata": {},
   "source": [
    "### break - Skip this whole loop iteration, from this moment, and do not do any more loop iterations"
   ]
  },
  {
   "cell_type": "code",
   "execution_count": null,
   "metadata": {},
   "outputs": [],
   "source": [
    "for i in range(0,100):\n",
    "    if i == 2:\n",
    "        break\n",
    "    print(i)"
   ]
  },
  {
   "cell_type": "markdown",
   "metadata": {},
   "source": [
    "### return - skip this whole loop iteration, and exit this scope (for example, method), not doing any more iterations"
   ]
  },
  {
   "cell_type": "code",
   "execution_count": null,
   "metadata": {},
   "outputs": [],
   "source": [
    "def print_a_lot_of_numbers_but_exit_on(number):\n",
    "    N = 1000\n",
    "    for i in range(0,N):\n",
    "        if i == number:\n",
    "            return i\n",
    "        print(i)\n",
    "    # Notice, how we return the last number. Otherwise, on 1000, it would return None automatically - Python feature.\n",
    "    return N\n",
    "        "
   ]
  },
  {
   "cell_type": "code",
   "execution_count": null,
   "metadata": {},
   "outputs": [],
   "source": [
    "print_a_lot_of_numbers_but_exit_on(1)"
   ]
  },
  {
   "cell_type": "code",
   "execution_count": null,
   "metadata": {},
   "outputs": [],
   "source": [
    "print_a_lot_of_numbers_but_exit_on(5)"
   ]
  },
  {
   "cell_type": "markdown",
   "metadata": {},
   "source": [
    "## Exceptions in flow control\n",
    "\n",
    "Before we go to a more general approach, I will show you what role the exceptions play in flow control."
   ]
  },
  {
   "cell_type": "markdown",
   "metadata": {},
   "source": [
    "### raise Exception - skip this whole loop iteration, and exit this program!"
   ]
  },
  {
   "cell_type": "code",
   "execution_count": null,
   "metadata": {},
   "outputs": [],
   "source": [
    "for i in range(0,100):\n",
    "    if i == 5:\n",
    "        raise Exception(\"I just hate the number 5. I'm out of here.\")"
   ]
  },
  {
   "cell_type": "markdown",
   "metadata": {},
   "source": [
    "### catch Exception - ignore it, and go on as if nothing happened"
   ]
  },
  {
   "cell_type": "code",
   "execution_count": null,
   "metadata": {},
   "outputs": [],
   "source": [
    "for i in range(0,10):\n",
    "    try:\n",
    "        if i == 5:\n",
    "            raise Exception(\"I hate fives.\")\n",
    "    except Exception as error_message:\n",
    "        print(\"Stop hate! Just go on. Details: \" + str(error_message))\n",
    "    print(i)"
   ]
  },
  {
   "cell_type": "markdown",
   "metadata": {},
   "source": [
    "## Exceptions general purpose and definition\n",
    "\n",
    "An exception is an event, which occurs during the execution of a program, that disrupts the normal flow of the program's instructions.\n",
    "\n",
    "Anomalous or exceptional conditions requiring special processing – often changing the normal flow of program execution\n",
    "\n",
    "### Exception handling - the process of responding to occurence of exceptions\n",
    "\n",
    "### Handled exception - exception, that arose during normal flow of program, but was caught - the program went on\n",
    "\n",
    "### Unhandled exception - exception, that arose during normal flow of program, but was uncaught - it crashed the whole process\n",
    "\n",
    "### Types of exceptions\n",
    "Exceptions come in hundreds of flavours, and you can also write your own kinds.\n",
    "\n",
    "Exceptions main role is to signal that a terrible or unexpected situation happened, and there is just no way of going on with program flow. \n",
    "\n",
    "Most popular Python exception types:"
   ]
  },
  {
   "cell_type": "code",
   "execution_count": null,
   "metadata": {},
   "outputs": [],
   "source": [
    "# IndexError\n",
    "a = [1,2,3]\n",
    "print(a[4])"
   ]
  },
  {
   "cell_type": "code",
   "execution_count": null,
   "metadata": {},
   "outputs": [],
   "source": [
    "# KeyError\n",
    "a = {\"something\": 1}\n",
    "a[\"something_else\"]"
   ]
  },
  {
   "cell_type": "code",
   "execution_count": null,
   "metadata": {},
   "outputs": [],
   "source": [
    "# ModuleNotFoundError                       \n",
    "import whatever"
   ]
  },
  {
   "cell_type": "code",
   "execution_count": null,
   "metadata": {},
   "outputs": [],
   "source": [
    "# NameError\n",
    "print(for_sure_I_dont_exist)"
   ]
  },
  {
   "cell_type": "code",
   "execution_count": null,
   "metadata": {},
   "outputs": [],
   "source": [
    "# TypeError\n",
    "int([a,a,a])"
   ]
  },
  {
   "cell_type": "code",
   "execution_count": null,
   "metadata": {},
   "outputs": [],
   "source": [
    "# ValueError\n",
    "int(\"a\")"
   ]
  },
  {
   "cell_type": "markdown",
   "metadata": {},
   "source": [
    "In most cases, you will see exceptions that result from mistakes in code, or unexpected behavior of external files, services, and all kinds of funny situations. It is not a rule of thumb, though."
   ]
  },
  {
   "cell_type": "markdown",
   "metadata": {},
   "source": [
    "## Exception handling\n",
    "Why do we catch exceptions? So that the program can continue. We can catch many exception types in one try...catch statement, to behave differently. Observe:"
   ]
  },
  {
   "cell_type": "code",
   "execution_count": null,
   "metadata": {},
   "outputs": [],
   "source": [
    "my_list = [1,2,\"a\",3,14,[1,3]]\n",
    "\n",
    "for item in my_list:\n",
    "    try:\n",
    "        converted = int(item)\n",
    "        print(converted)\n",
    "        print(my_list[converted])\n",
    "    except TypeError:\n",
    "        print(\"Woops! Next time give my program the proper type!\")\n",
    "    except ValueError:\n",
    "        print(\"Woops! Next time give me a proper value!\")\n",
    "    except Exception as e:\n",
    "        print(\"Something else went wrong.\"\n",
    "              \"Luckily I am catching all possible exceptions with this clause.\"\n",
    "             \"Here are the details of what actually happened: \" + str(e))\n",
    "        \n",
    "print(\"All those errors, but here we are, successfully ending our program as expected, in controlled fashion\")"
   ]
  },
  {
   "cell_type": "markdown",
   "metadata": {},
   "source": [
    "## Example covering all those functionalities\n",
    "\n",
    "This example will show you how to control your program, that behaves accordingly to user input. You have no idea what the users will input, so you need to prepare for the worst.\n",
    "\n",
    "Simple idea is to print out characters from the ASCII table, corresponding to numbers - as much as user desires.\n",
    "Requirements:\n",
    "- skip words for inputs: 30, 60\n",
    "- if the counter reaches 3000, stop printing new words\n",
    "- print every 30th word\n",
    "- skip every 150th letter\n",
    "- take iterations amount from keyboard user input\n",
    "- program raises Exception for values over 9000"
   ]
  },
  {
   "cell_type": "code",
   "execution_count": null,
   "metadata": {},
   "outputs": [],
   "source": [
    "# Handle various user inputs.\n",
    "main_counter = 0\n",
    "\n",
    "while True:\n",
    "    iterations = input()    \n",
    "    try:\n",
    "        iterations = int(iterations)\n",
    "        break\n",
    "    except ValueError:\n",
    "        print(\"Please provide a number\")\n",
    "        iterations = 0\n",
    "\n",
    "if iterations > 9000:\n",
    "    raise Exception(\"This value if over 9000! This program cannot handle such input. Exiting\")\n",
    "\n",
    "# Show the words.\n",
    "while main_counter < iterations:\n",
    "    if main_counter == 3000:\n",
    "        break\n",
    "\n",
    "    if main_counter in [30,60]:\n",
    "        # Why is this here when it is also at the end?\n",
    "        main_counter += 1\n",
    "        continue\n",
    "    \n",
    "    if main_counter % 30 == 0:\n",
    "        word = \"\"\n",
    "        for small_counter in range(200, 200 + main_counter):\n",
    "            if small_counter % 150 == 0:\n",
    "                continue\n",
    "            word += chr(small_counter)\n",
    "\n",
    "        print(word)\n",
    "    \n",
    "    main_counter += 1"
   ]
  },
  {
   "cell_type": "markdown",
   "metadata": {},
   "source": [
    "## Example interview task - folder crawler\n",
    "\n",
    "Task is to create a program, that will print out contents of a folder, recursively down the folder structure.\n",
    "\n",
    "### Requirements\n",
    "- use Python module \"os\"\n",
    "- go down N floors of folders - it is an input parameter\n",
    "- must accept absolute paths"
   ]
  },
  {
   "cell_type": "code",
   "execution_count": null,
   "metadata": {},
   "outputs": [],
   "source": [
    "import os\n",
    "\n",
    "def print_current_path(path, level):\n",
    "    print(\"level: {0}, path: {1}\".format(level, path))\n",
    "\n",
    "def folder_crawler(starting_path, level_limit, current_level=0):\n",
    "        if current_level > level_limit:\n",
    "            return\n",
    "        \n",
    "        print_current_path(starting_path, current_level)\n",
    "        \n",
    "        try:\n",
    "            contents = os.listdir(starting_path)\n",
    "        \n",
    "            for item in contents:\n",
    "                item_path = os.path.join(starting_path, item)\n",
    "                print_current_path(item_path, current_level)\n",
    "                if os.path.isdir(item_path):\n",
    "                    folder_crawler(item_path, level_limit, current_level + 1)\n",
    "        except PermissionError:\n",
    "            print(\"Permission denied. Skipping\")"
   ]
  },
  {
   "cell_type": "code",
   "execution_count": null,
   "metadata": {},
   "outputs": [],
   "source": [
    "folder_crawler(r\"C:\\Users\", 2)"
   ]
  },
  {
   "cell_type": "markdown",
   "metadata": {},
   "source": [
    "### Extend example by yourself - if it's a text file, print out the first line of this file to the screen.\n",
    "## folder_crawler evolves into folder_spy!"
   ]
  }
 ],
 "metadata": {
  "kernelspec": {
   "display_name": "Python 3",
   "language": "python",
   "name": "python3"
  },
  "language_info": {
   "codemirror_mode": {
    "name": "ipython",
    "version": 3
   },
   "file_extension": ".py",
   "mimetype": "text/x-python",
   "name": "python",
   "nbconvert_exporter": "python",
   "pygments_lexer": "ipython3",
   "version": "3.6.2"
  }
 },
 "nbformat": 4,
 "nbformat_minor": 2
}
