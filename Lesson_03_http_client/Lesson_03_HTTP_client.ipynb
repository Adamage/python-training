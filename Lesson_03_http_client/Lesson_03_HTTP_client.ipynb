{
 "cells": [
  {
   "cell_type": "markdown",
   "metadata": {},
   "source": [
    "# Python Training - Lesson 3 - HTTP client console application\n"
   ]
  },
  {
   "cell_type": "markdown",
   "metadata": {},
   "source": [
    "Via Wikipedia:\n",
    "\n",
    "#### The Hypertext Transfer Protocol (HTTP) is an application protocol for distributed, collaborative, and hypermedia information systems.[1] HTTP is the foundation of data communication for the World Wide Web.\n",
    "\n",
    "Hypertext is structured text that uses logical links (hyperlinks) between nodes containing text. HTTP is the protocol to exchange or transfer hypertext."
   ]
  },
  {
   "cell_type": "markdown",
   "metadata": {},
   "source": [
    "Let's say, we want to know the currencies of Euro, US Dollar and Polish PLN. There is a website offering this service for free on www.nbp.pl . We can access that information using a HTTP client.\n",
    "\n",
    "What is a client? For example, it is the web browser like Chrome. We can also write our own small Python client."
   ]
  },
  {
   "cell_type": "markdown",
   "metadata": {},
   "source": [
    "The NBP portal offers a public API to access this data using HTTP messages. They provide instructions here: http://api.nbp.pl/\n",
    "API - Application Programming Interface - is a set of rules for other programs to know how to communicate using messages that are run automatically from code."
   ]
  },
  {
   "cell_type": "markdown",
   "metadata": {},
   "source": [
    "## HTTP message types\n",
    "\n",
    "A message can do a lot of things. \n",
    "\n",
    "It can retrieve something, so \"download\", using the GET message. \n",
    "\n",
    "You can also remove something, using the DELETE message.\n",
    "\n",
    "You can replace something, using the PUT message.\n",
    "\n",
    "You can create a new item, using POST message.\n",
    "\n",
    "\n",
    "## Let's  'GET' a value of PLN currency\n",
    "\n",
    "Python already has some built-in modules that allow HTTP communication. We just need to use them.\n",
    "\n",
    "Our algorithm for now will be:\n",
    "\n",
    "1. Define connection - we want to connect to api.nbp.pl website interface\n",
    "2. Compose a message query - we need to say what exactly we want, like from which date, which currency etc\n",
    "3. Send the message\n",
    "4. The program will wait for a response.\n",
    "5. Receive the response.\n",
    "6. Inspect the contents of response.\n",
    "7. Try to extract from the whole message, the information that is interesting for us."
   ]
  },
  {
   "cell_type": "code",
   "execution_count": 2,
   "metadata": {},
   "outputs": [],
   "source": [
    "# Let's import required Python libraries\n",
    "import requests"
   ]
  },
  {
   "cell_type": "code",
   "execution_count": 13,
   "metadata": {},
   "outputs": [
    {
     "name": "stdout",
     "output_type": "stream",
     "text": [
      "http://api.nbp.pl/api/exchangerates/rates/a/usd/2017-09-12\n",
      "http://api.nbp.pl/api/exchangerates/rates/a/usd/2017-09-12\n"
     ]
    }
   ],
   "source": [
    "# Define connection address in raw string - raw is indicated by 'r' in front,\n",
    "# and means that it should not interpret the slash sign as the 'escape character'.\n",
    "address = r\"http://api.nbp.pl\"\n",
    "\n",
    "# In the instructions it is written, that we should create the request address by the following rule:\n",
    "# http://api.nbp.pl/api/exchangerates/rates/  {table}  /  {code}  /  {date}\n",
    "# Where:\n",
    "# {table} - can be A, B, C\n",
    "# {date} - is a date in a format: 2017-10-12\n",
    "# {code} - currency code, like EUR, USD\n",
    "rates_path = \"api/exchangerates/rates\"\n",
    "table = \"a\"\n",
    "code = \"usd\"\n",
    "date = \"2017-09-12\"\n",
    "\n",
    "# A few ways of creating the query address:\n",
    "\n",
    "# Add manually\n",
    "resource_address = address + \"/\" + rates_path + \"/\" + table + \"/\" + code + \"/\" + date\n",
    "print(resource_address)\n",
    "# Join using string.join method\n",
    "resource_address = \"/\".join([address, rates_path, table, code, date])\n",
    "print(resource_address)\n"
   ]
  },
  {
   "cell_type": "code",
   "execution_count": 14,
   "metadata": {},
   "outputs": [
    {
     "name": "stdout",
     "output_type": "stream",
     "text": [
      "<Response [200]>\n"
     ]
    }
   ],
   "source": [
    "# Perform the GET query\n",
    "response = requests.get(resource_address)\n",
    "print(response)"
   ]
  },
  {
   "cell_type": "markdown",
   "metadata": {},
   "source": [
    "HTTP response codes:\n",
    "https://en.wikipedia.org/wiki/List_of_HTTP_status_codes\n",
    "\n",
    "Most popular:\n",
    "200 = OK\n",
    "404 = NOT FOUND\n",
    "\n",
    "Let's inspect the response"
   ]
  },
  {
   "cell_type": "code",
   "execution_count": 19,
   "metadata": {},
   "outputs": [
    {
     "data": {
      "text/plain": [
       "requests.models.Response"
      ]
     },
     "execution_count": 19,
     "metadata": {},
     "output_type": "execute_result"
    }
   ],
   "source": [
    "type(response)\n"
   ]
  },
  {
   "cell_type": "code",
   "execution_count": 20,
   "metadata": {},
   "outputs": [
    {
     "data": {
      "text/plain": [
       "['__attrs__',\n",
       " '__bool__',\n",
       " '__class__',\n",
       " '__delattr__',\n",
       " '__dict__',\n",
       " '__dir__',\n",
       " '__doc__',\n",
       " '__enter__',\n",
       " '__eq__',\n",
       " '__exit__',\n",
       " '__format__',\n",
       " '__ge__',\n",
       " '__getattribute__',\n",
       " '__getstate__',\n",
       " '__gt__',\n",
       " '__hash__',\n",
       " '__init__',\n",
       " '__init_subclass__',\n",
       " '__iter__',\n",
       " '__le__',\n",
       " '__lt__',\n",
       " '__module__',\n",
       " '__ne__',\n",
       " '__new__',\n",
       " '__nonzero__',\n",
       " '__reduce__',\n",
       " '__reduce_ex__',\n",
       " '__repr__',\n",
       " '__setattr__',\n",
       " '__setstate__',\n",
       " '__sizeof__',\n",
       " '__str__',\n",
       " '__subclasshook__',\n",
       " '__weakref__',\n",
       " '_content',\n",
       " '_content_consumed',\n",
       " '_next',\n",
       " 'apparent_encoding',\n",
       " 'close',\n",
       " 'connection',\n",
       " 'content',\n",
       " 'cookies',\n",
       " 'elapsed',\n",
       " 'encoding',\n",
       " 'headers',\n",
       " 'history',\n",
       " 'is_permanent_redirect',\n",
       " 'is_redirect',\n",
       " 'iter_content',\n",
       " 'iter_lines',\n",
       " 'json',\n",
       " 'links',\n",
       " 'next',\n",
       " 'ok',\n",
       " 'raise_for_status',\n",
       " 'raw',\n",
       " 'reason',\n",
       " 'request',\n",
       " 'status_code',\n",
       " 'text',\n",
       " 'url']"
      ]
     },
     "execution_count": 20,
     "metadata": {},
     "output_type": "execute_result"
    }
   ],
   "source": [
    "dir(response)"
   ]
  },
  {
   "cell_type": "code",
   "execution_count": 25,
   "metadata": {},
   "outputs": [
    {
     "name": "stdout",
     "output_type": "stream",
     "text": [
      "{'_content': b'{\"table\":\"A\",\"currency\":\"dolar ameryka\\xc5\\x84ski\",\"code\":\"USD\",\"rates\":[{\"no\":\"176/A/NBP/2017\",\"effectiveDate\":\"2017-09-12\",\"mid\":3.5552}]}', '_content_consumed': True, '_next': None, 'status_code': 200, 'headers': {'Cache-Control': 'no-cache', 'Pragma': 'no-cache', 'Content-Length': '134', 'Content-Type': 'application/json; charset=utf-8', 'Expires': '-1', 'ETag': '\"MJbg40JKR9bFS2a08iC96X93xYmps65GNaz4N32vlG4=\"', 'Date': 'Sat, 14 Oct 2017 11:12:38 GMT'}, 'raw': <urllib3.response.HTTPResponse object at 0x04B2C6D0>, 'url': 'http://api.nbp.pl/api/exchangerates/rates/a/usd/2017-09-12', 'encoding': 'utf-8', 'history': [], 'reason': 'OK', 'cookies': <RequestsCookieJar[]>, 'elapsed': datetime.timedelta(0, 0, 97624), 'request': <PreparedRequest [GET]>, 'connection': <requests.adapters.HTTPAdapter object at 0x04B13D50>}\n"
     ]
    }
   ],
   "source": [
    "# Let's view only the attributes, and not the Python built-in object fields.\n",
    "attributes = response.__dict__\n",
    "print(attributes)\n"
   ]
  },
  {
   "cell_type": "code",
   "execution_count": 26,
   "metadata": {},
   "outputs": [
    {
     "data": {
      "text/plain": [
       "{'_content': b'{\"table\":\"A\",\"currency\":\"dolar ameryka\\xc5\\x84ski\",\"code\":\"USD\",\"rates\":[{\"no\":\"176/A/NBP/2017\",\"effectiveDate\":\"2017-09-12\",\"mid\":3.5552}]}',\n",
       " '_content_consumed': True,\n",
       " '_next': None,\n",
       " 'connection': <requests.adapters.HTTPAdapter at 0x4b13d50>,\n",
       " 'cookies': <RequestsCookieJar[]>,\n",
       " 'elapsed': datetime.timedelta(0, 0, 97624),\n",
       " 'encoding': 'utf-8',\n",
       " 'headers': {'Cache-Control': 'no-cache', 'Pragma': 'no-cache', 'Content-Length': '134', 'Content-Type': 'application/json; charset=utf-8', 'Expires': '-1', 'ETag': '\"MJbg40JKR9bFS2a08iC96X93xYmps65GNaz4N32vlG4=\"', 'Date': 'Sat, 14 Oct 2017 11:12:38 GMT'},\n",
       " 'history': [],\n",
       " 'raw': <urllib3.response.HTTPResponse at 0x4b2c6d0>,\n",
       " 'reason': 'OK',\n",
       " 'request': <PreparedRequest [GET]>,\n",
       " 'status_code': 200,\n",
       " 'url': 'http://api.nbp.pl/api/exchangerates/rates/a/usd/2017-09-12'}"
      ]
     },
     "execution_count": 26,
     "metadata": {},
     "output_type": "execute_result"
    }
   ],
   "source": [
    "# Let's print it better.\n",
    "response.__dict__\n"
   ]
  },
  {
   "cell_type": "markdown",
   "metadata": {},
   "source": [
    "Now. Some of these are only about the HTTP message:\n",
    "- status_code: 200 - means OK\n",
    "- reason: OK  - means OK\n",
    "- url - Uniform Resource Locator - means which resource we just downloaded\n",
    "- headers - very important part, it says which headers the RESPONSE message carried\n",
    "- encoding: utf-8  - means how were the characters encoded, with which special character sets etc\n",
    "- elapsed: how long did it take for the message to get to us\n",
    "\n",
    "The response we actually need is:\n",
    "- _content - contains all response details\n",
    "\n",
    "One other thing to notice is that, response inside 'content' came in in a specific format. The most often used formats are:\n",
    "- JSON  -  Javascript Object Notation\n",
    "- XML - Extensible Markup Language\n",
    "\n",
    "Our format of response can be seen inside 'headers':"
   ]
  },
  {
   "cell_type": "code",
   "execution_count": 27,
   "metadata": {},
   "outputs": [
    {
     "data": {
      "text/plain": [
       "{'Cache-Control': 'no-cache', 'Pragma': 'no-cache', 'Content-Length': '134', 'Content-Type': 'application/json; charset=utf-8', 'Expires': '-1', 'ETag': '\"MJbg40JKR9bFS2a08iC96X93xYmps65GNaz4N32vlG4=\"', 'Date': 'Sat, 14 Oct 2017 11:12:38 GMT'}"
      ]
     },
     "execution_count": 27,
     "metadata": {},
     "output_type": "execute_result"
    }
   ],
   "source": [
    "response.headers"
   ]
  },
  {
   "cell_type": "code",
   "execution_count": 29,
   "metadata": {},
   "outputs": [
    {
     "data": {
      "text/plain": [
       "'application/json; charset=utf-8'"
      ]
     },
     "execution_count": 29,
     "metadata": {},
     "output_type": "execute_result"
    }
   ],
   "source": [
    "# The format itself:\n",
    "response.headers['Content-Type']"
   ]
  },
  {
   "cell_type": "code",
   "execution_count": 30,
   "metadata": {},
   "outputs": [
    {
     "data": {
      "text/plain": [
       "b'{\"table\":\"A\",\"currency\":\"dolar ameryka\\xc5\\x84ski\",\"code\":\"USD\",\"rates\":[{\"no\":\"176/A/NBP/2017\",\"effectiveDate\":\"2017-09-12\",\"mid\":3.5552}]}'"
      ]
     },
     "execution_count": 30,
     "metadata": {},
     "output_type": "execute_result"
    }
   ],
   "source": [
    "# The response:\n",
    "response._content"
   ]
  },
  {
   "cell_type": "code",
   "execution_count": 33,
   "metadata": {},
   "outputs": [],
   "source": [
    "# Let's inspect the contents.\n",
    "contents = response._content"
   ]
  },
  {
   "cell_type": "code",
   "execution_count": 34,
   "metadata": {},
   "outputs": [
    {
     "data": {
      "text/plain": [
       "bytes"
      ]
     },
     "execution_count": 34,
     "metadata": {},
     "output_type": "execute_result"
    }
   ],
   "source": [
    "type(contents)"
   ]
  },
  {
   "cell_type": "code",
   "execution_count": 35,
   "metadata": {},
   "outputs": [
    {
     "data": {
      "text/plain": [
       "134"
      ]
     },
     "execution_count": 35,
     "metadata": {},
     "output_type": "execute_result"
    }
   ],
   "source": [
    "len(contents)"
   ]
  },
  {
   "cell_type": "markdown",
   "metadata": {},
   "source": [
    "That's not quite usable yet. It's an object of type 'bytes'. Let's decode the bytes to string."
   ]
  },
  {
   "cell_type": "code",
   "execution_count": 36,
   "metadata": {},
   "outputs": [
    {
     "name": "stdout",
     "output_type": "stream",
     "text": [
      "{\"table\":\"A\",\"currency\":\"dolar amerykański\",\"code\":\"USD\",\"rates\":[{\"no\":\"176/A/NBP/2017\",\"effectiveDate\":\"2017-09-12\",\"mid\":3.5552}]}\n"
     ]
    }
   ],
   "source": [
    "contents = contents.decode('utf-8')\n",
    "print(contents)"
   ]
  },
  {
   "cell_type": "code",
   "execution_count": 37,
   "metadata": {},
   "outputs": [
    {
     "data": {
      "text/plain": [
       "str"
      ]
     },
     "execution_count": 37,
     "metadata": {},
     "output_type": "execute_result"
    }
   ],
   "source": [
    "type(contents)"
   ]
  },
  {
   "cell_type": "markdown",
   "metadata": {},
   "source": [
    "We are close. Now, to make this string usable at all, let's use Python module designed for using JSON format."
   ]
  },
  {
   "cell_type": "code",
   "execution_count": 38,
   "metadata": {},
   "outputs": [
    {
     "name": "stdout",
     "output_type": "stream",
     "text": [
      "{'table': 'A', 'currency': 'dolar amerykański', 'code': 'USD', 'rates': [{'no': '176/A/NBP/2017', 'effectiveDate': '2017-09-12', 'mid': 3.5552}]}\n"
     ]
    }
   ],
   "source": [
    "import json\n",
    "\n",
    "contents_from_json = json.loads(contents)\n",
    "print(contents_from_json)"
   ]
  },
  {
   "cell_type": "code",
   "execution_count": 39,
   "metadata": {},
   "outputs": [
    {
     "data": {
      "text/plain": [
       "dict"
      ]
     },
     "execution_count": 39,
     "metadata": {},
     "output_type": "execute_result"
    }
   ],
   "source": [
    "type(contents_from_json)"
   ]
  },
  {
   "cell_type": "markdown",
   "metadata": {},
   "source": [
    "Great! Now we can access the various elements of this information using dictionary elements. Let's see how:"
   ]
  },
  {
   "cell_type": "code",
   "execution_count": 40,
   "metadata": {},
   "outputs": [
    {
     "data": {
      "text/plain": [
       "'dolar amerykański'"
      ]
     },
     "execution_count": 40,
     "metadata": {},
     "output_type": "execute_result"
    }
   ],
   "source": [
    "contents_from_json['currency']"
   ]
  },
  {
   "cell_type": "code",
   "execution_count": 45,
   "metadata": {},
   "outputs": [
    {
     "name": "stdout",
     "output_type": "stream",
     "text": [
      "3.5552\n"
     ]
    }
   ],
   "source": [
    "currency_value = contents_from_json['rates'][0]['mid']\n",
    "print(currency_value)\n"
   ]
  },
  {
   "cell_type": "markdown",
   "metadata": {},
   "source": [
    "Let's write it all again in a concise way."
   ]
  },
  {
   "cell_type": "code",
   "execution_count": 46,
   "metadata": {},
   "outputs": [
    {
     "name": "stdout",
     "output_type": "stream",
     "text": [
      "3.5552\n"
     ]
    }
   ],
   "source": [
    "import requests\n",
    "import json\n",
    "\n",
    "# Address.\n",
    "address = r\"http://api.nbp.pl\"\n",
    "rates_path = \"api/exchangerates/rates\"\n",
    "\n",
    "# Resource.\n",
    "table = \"a\"\n",
    "code = \"usd\"\n",
    "date = \"2017-09-12\"\n",
    "\n",
    "# Message.\n",
    "resource_address = \"/\".join([address, rates_path, table, code, date])\n",
    "\n",
    "response = requests.get(resource_address)\n",
    "\n",
    "# Work on response.\n",
    "contents = response._content\n",
    "contents = contents.decode('utf-8')\n",
    "contents_from_json = json.loads(contents)\n",
    "\n",
    "# Print value.\n",
    "currency_value = contents_from_json['rates'][0]['mid']\n",
    "print(currency_value)"
   ]
  },
  {
   "cell_type": "markdown",
   "metadata": {},
   "source": [
    "Now, let's try to do the same thing, but using a different data format - XML. NBP.pl offers also XML responses, but we have to specify this when we send the query message. "
   ]
  },
  {
   "cell_type": "code",
   "execution_count": 47,
   "metadata": {},
   "outputs": [
    {
     "name": "stdout",
     "output_type": "stream",
     "text": [
      "<?xml version=\"1.0\" encoding=\"utf-8\"?><ExchangeRatesSeries xmlns:xsd=\"http://www.w3.org/2001/XMLSchema\" xmlns:xsi=\"http://www.w3.org/2001/XMLSchema-instance\"><Table>A</Table><Currency>dolar amerykański</Currency><Code>USD</Code><Rates><Rate><No>176/A/NBP/2017</No><EffectiveDate>2017-09-12</EffectiveDate><Mid>3.5552</Mid></Rate></Rates></ExchangeRatesSeries>\n"
     ]
    }
   ],
   "source": [
    "import requests\n",
    "\n",
    "# Address.\n",
    "address = r\"http://api.nbp.pl\"\n",
    "rates_path = \"api/exchangerates/rates\"\n",
    "\n",
    "# Resource.\n",
    "table = \"a\"\n",
    "code = \"usd\"\n",
    "date = \"2017-09-12\"\n",
    "\n",
    "# Message.\n",
    "resource_address = \"/\".join([address, rates_path, table, code, date])\n",
    "\n",
    "# Specify format.\n",
    "resource_address += \"/?format=xml\"\n",
    "\n",
    "response = requests.get(resource_address)\n",
    "\n",
    "# Work on response.\n",
    "contents = response._content\n",
    "contents = contents.decode('utf-8')\n",
    "\n",
    "print(contents)"
   ]
  },
  {
   "cell_type": "code",
   "execution_count": 48,
   "metadata": {},
   "outputs": [
    {
     "data": {
      "text/plain": [
       "str"
      ]
     },
     "execution_count": 48,
     "metadata": {},
     "output_type": "execute_result"
    }
   ],
   "source": [
    "type(contents)"
   ]
  },
  {
   "cell_type": "markdown",
   "metadata": {},
   "source": [
    "While our response is in string, it is not much readable. We need to again create a dictionary from this XML. \n",
    "\n",
    "We can also use the ElementTree module - XML data is pretty much a 'tree', that we can go through.  For example, we start from the root. Then we visit the branches going out from the root. Then the branches from that branches... etc.."
   ]
  },
  {
   "cell_type": "code",
   "execution_count": 52,
   "metadata": {},
   "outputs": [],
   "source": [
    "# Let's import the XML library, selecting only a small subset module called ElementTree\n",
    "import xml.etree.ElementTree as ET\n",
    "\n",
    "contents_tree = ET.fromstring(contents)"
   ]
  },
  {
   "cell_type": "code",
   "execution_count": 53,
   "metadata": {},
   "outputs": [
    {
     "data": {
      "text/plain": [
       "xml.etree.ElementTree.Element"
      ]
     },
     "execution_count": 53,
     "metadata": {},
     "output_type": "execute_result"
    }
   ],
   "source": [
    "type(contents_tree)"
   ]
  },
  {
   "cell_type": "code",
   "execution_count": 61,
   "metadata": {},
   "outputs": [
    {
     "data": {
      "text/plain": [
       "'ExchangeRatesSeries'"
      ]
     },
     "execution_count": 61,
     "metadata": {},
     "output_type": "execute_result"
    }
   ],
   "source": [
    "# Lets see the root Node.\n",
    "contents_tree.tag"
   ]
  },
  {
   "cell_type": "code",
   "execution_count": 63,
   "metadata": {},
   "outputs": [
    {
     "data": {
      "text/plain": [
       "[<Element 'Table' at 0x04BB3330>,\n",
       " <Element 'Currency' at 0x04BB3360>,\n",
       " <Element 'Code' at 0x04BB3390>,\n",
       " <Element 'Rates' at 0x04BB33C0>]"
      ]
     },
     "execution_count": 63,
     "metadata": {},
     "output_type": "execute_result"
    }
   ],
   "source": [
    "contents_tree.getchildren()"
   ]
  },
  {
   "cell_type": "code",
   "execution_count": 73,
   "metadata": {},
   "outputs": [],
   "source": [
    "element_mid = contents_tree.getchildren()[3].getchildren()[0].getchildren()[2]"
   ]
  },
  {
   "cell_type": "code",
   "execution_count": 74,
   "metadata": {},
   "outputs": [
    {
     "data": {
      "text/plain": [
       "'3.5552'"
      ]
     },
     "execution_count": 74,
     "metadata": {},
     "output_type": "execute_result"
    }
   ],
   "source": [
    "element_mid.text"
   ]
  },
  {
   "cell_type": "markdown",
   "metadata": {},
   "source": [
    "Let's write that again in a more clear way."
   ]
  },
  {
   "cell_type": "code",
   "execution_count": 76,
   "metadata": {},
   "outputs": [
    {
     "data": {
      "text/plain": [
       "'3.5552'"
      ]
     },
     "execution_count": 76,
     "metadata": {},
     "output_type": "execute_result"
    }
   ],
   "source": [
    "elemend_mid = contents_tree.findall(r\".//Mid\")\n",
    "element_mid.text"
   ]
  },
  {
   "cell_type": "markdown",
   "metadata": {},
   "source": [
    "Now the final program."
   ]
  },
  {
   "cell_type": "code",
   "execution_count": 81,
   "metadata": {},
   "outputs": [
    {
     "name": "stdout",
     "output_type": "stream",
     "text": [
      "3.5552\n"
     ]
    }
   ],
   "source": [
    "import requests\n",
    "import xml.etree.ElementTree as ET\n",
    "\n",
    "# Address.\n",
    "address = r\"http://api.nbp.pl\"\n",
    "rates_path = \"api/exchangerates/rates\"\n",
    "\n",
    "# Resource.\n",
    "table = \"a\"\n",
    "code = \"usd\"\n",
    "date = \"2017-09-12\"\n",
    "\n",
    "# Message.\n",
    "resource_address = \"/\".join([address, rates_path, table, code, date])\n",
    "\n",
    "# Specify format.\n",
    "resource_address += \"/?format=xml\"\n",
    "\n",
    "response = requests.get(resource_address)\n",
    "\n",
    "# Work on response.\n",
    "contents = response._content\n",
    "contents = contents.decode('utf-8')\n",
    "\n",
    "contents_tree = ET.fromstring(contents)\n",
    "element_mid = contents_tree.findall(r\".//Mid\")\n",
    "\n",
    "print(str(element_mid[0].text))"
   ]
  },
  {
   "cell_type": "markdown",
   "metadata": {},
   "source": [
    "To make the program look better and handle both formats, we should refactor it. Let's write more functions."
   ]
  },
  {
   "cell_type": "code",
   "execution_count": 83,
   "metadata": {},
   "outputs": [],
   "source": [
    "import xml.etree.ElementTree as ET\n",
    "import json\n",
    "\n",
    "\n",
    "def extract_value(string_contents, data_format):\n",
    "    if data_format == 'xml':\n",
    "        return extract_value_from_xml(string_contents)\n",
    "    else:\n",
    "        return extract_value_from_json(string_contents)\n",
    "\n",
    "    \n",
    "def extract_value_from_xml(string_contents):\n",
    "    contents_tree = ET.fromstring(contents)\n",
    "    element_mid = contents_tree.findall(r\".//Mid\")\n",
    "    \n",
    "    # It returns a list, let's take the only element from inside - 'unpack from list'\n",
    "    return element_mid[0].text\n",
    "    \n",
    "\n",
    "def extract_value_from_json(string_contents):\n",
    "    contents_from_json = json.loads(contents)\n",
    "    return contents_from_json['rates'][0]['mid']\n",
    "\n",
    "\n",
    "def construct_address(table, code, date, data_type):\n",
    "    data_type = \"/?format={0}\".format(data_type)\n",
    "    address = r\"http://api.nbp.pl/api/exchangerates/rates\"\n",
    "    return \"/\".join([address, rates_path, table, code, date, data_type])    "
   ]
  },
  {
   "cell_type": "markdown",
   "metadata": {},
   "source": [
    "Now, our program looks like this:"
   ]
  },
  {
   "cell_type": "code",
   "execution_count": 84,
   "metadata": {},
   "outputs": [
    {
     "name": "stdout",
     "output_type": "stream",
     "text": [
      "3.5552\n"
     ]
    }
   ],
   "source": [
    "import requests\n",
    "\n",
    "# Address.\n",
    "data_type = \"json\"\n",
    "address = construct_address(\"a\", \"usd\", \"2017-09-12\", data_type)\n",
    "\n",
    "response = requests.get(address)\n",
    "\n",
    "# Work on response.\n",
    "contents = response._content\n",
    "contents = contents.decode('utf-8')\n",
    "\n",
    "value = extract_value(contents, data_type)\n",
    "print(value)"
   ]
  },
  {
   "cell_type": "code",
   "execution_count": null,
   "metadata": {},
   "outputs": [],
   "source": []
  }
 ],
 "metadata": {
  "kernelspec": {
   "display_name": "Python 3",
   "language": "python",
   "name": "python3"
  },
  "language_info": {
   "codemirror_mode": {
    "name": "ipython",
    "version": 3
   },
   "file_extension": ".py",
   "mimetype": "text/x-python",
   "name": "python",
   "nbconvert_exporter": "python",
   "pygments_lexer": "ipython3",
   "version": "3.6.2"
  }
 },
 "nbformat": 4,
 "nbformat_minor": 2
}
