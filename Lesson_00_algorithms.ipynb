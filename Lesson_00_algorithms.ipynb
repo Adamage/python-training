{
 "cells": [
  {
   "cell_type": "markdown",
   "metadata": {},
   "source": [
    "# Python Training - Lesson 0 - algorithms"
   ]
  },
  {
   "cell_type": "markdown",
   "metadata": {},
   "source": [
    "Before we start writing code, we should first understand how to solve problems using well defined steps and procedures. Let me give you an example."
   ]
  },
  {
   "cell_type": "markdown",
   "metadata": {},
   "source": [
    "### Example algorithm - sort numbers\n",
    "Sort a list of numbers so that they are in a growing sequence.\n",
    "List : 27,2,1,63,8,26,3,2,8,1,3,3,4\n",
    "\n",
    "Let's write some steps for a classic bubble sort.\n",
    "\n",
    "Take the first pair. 27 and 2\n",
    "\n",
    "If the second one is higher, leave it.\n",
    "\n",
    "If it is lower, switch them.\n",
    "\n",
    "Do this until they are sorted. \n",
    "\n",
    "If you reach the end of list, go again, do another pass.\n",
    "\n",
    "Now, most of the work is done. It's enough to solve the problem.\n",
    "To make it automatic, we need to write pieces of code for each of the steps. The tools you need to know will be covered later in the course, for now just look at how simple a Python program could be."
   ]
  },
  {
   "cell_type": "code",
   "execution_count": null,
   "metadata": {},
   "outputs": [],
   "source": [
    "def bubble_sort(alist):\n",
    "    for pass_number in range(len(alist)-1,0,-1):\n",
    "        for i in range(pass_number):\n",
    "            left, right = alist[i], alist[i+1]\n",
    "\n",
    "            if left > right:\n",
    "                left, right = right, left\n",
    "            \n",
    "            alist[i], alist[i+1] = left, right\n",
    "                \n",
    "            print(alist)"
   ]
  },
  {
   "cell_type": "code",
   "execution_count": null,
   "metadata": {},
   "outputs": [],
   "source": [
    "bubble_sort([27,2,1,63,8,26,3,2,8,1,3,3,4])"
   ]
  },
  {
   "cell_type": "markdown",
   "metadata": {},
   "source": [
    "### Example algorithm - IKEA furniture assembly\n",
    "\n",
    "Now, let's complicate things a bit.\n",
    "\n",
    "Given a list of pieces, each with information about what tool to use, and needed supplies like screws, how will you do it step by step?"
   ]
  },
  {
   "cell_type": "markdown",
   "metadata": {},
   "source": [
    "#### Simple description\n",
    "\n",
    "We can just take a new piece, get the tool, get the supplies, and do the instruction. Then, take the next one."
   ]
  },
  {
   "cell_type": "markdown",
   "metadata": {},
   "source": [
    "#### How to model this information?\n",
    "\n",
    "Now, imagine that you need to explain this to the computer. \n",
    "\n",
    "##### - Take a new piece\n",
    "From where? We need a _thing_ with all pieces. IKEA instructions tell you to do things in a sequence, so let's try a list. We need a list with all pieces.\n",
    "\n",
    "####  - Take the required tool\n",
    "How do we know which one? It seems like, for each piece, we need to know this. We need to connect this information. To keep things simple, let's keep this information in a list. So for example:"
   ]
  },
  {
   "cell_type": "code",
   "execution_count": 2,
   "metadata": {},
   "outputs": [],
   "source": [
    "# Chair leg, screwdriver\n",
    "# Chair seat, hammer\n",
    "# Chair leg, screwdriver"
   ]
  },
  {
   "cell_type": "markdown",
   "metadata": {},
   "source": [
    "#### - Take the supplies\n",
    "Seems like a similar task to \"mapping\" tools. Let's extend the action list:"
   ]
  },
  {
   "cell_type": "code",
   "execution_count": 3,
   "metadata": {},
   "outputs": [],
   "source": [
    "# Chair leg, screwdriver, 30mm screw\n",
    "# Char seat, hammer, wooden peg\n",
    "# Char leg, screwdriver, 30mm screw\n",
    "# ..."
   ]
  },
  {
   "cell_type": "markdown",
   "metadata": {},
   "source": [
    "But what if we no longer have any screws? We should stop the program. It also means, somewhere else in program, we should keep count of screws, and each time one is used, decrease the count by 1.\n",
    "\n",
    "#### - Perform instruction\n",
    "Now, everyone knows this is the hardest part. We need to tell the computer to do something with many elements. \"Doing stuff\" in programming is performed by instructions, or a sequence of instructions (called a procedure, function, method).\n",
    "\n",
    "Lets say we define how to use a screw and screwdriver:"
   ]
  },
  {
   "cell_type": "code",
   "execution_count": null,
   "metadata": {},
   "outputs": [],
   "source": [
    "def screw_together( furniture_piece, supplies, tool):\n",
    "    connected_furniture = tool.screw(furniture_piece, supplies)\n",
    "    return connected_furniture"
   ]
  },
  {
   "cell_type": "markdown",
   "metadata": {},
   "source": [
    "Now our list looks like this:"
   ]
  },
  {
   "cell_type": "code",
   "execution_count": null,
   "metadata": {},
   "outputs": [],
   "source": [
    "# list_of_actions =\n",
    "# Chair leg, screwdriver, 30mm screw, screw_together( Chair leg, 30mm screw, screwdriver)\n",
    "# ..."
   ]
  },
  {
   "cell_type": "markdown",
   "metadata": {},
   "source": [
    "We managed to at least model the behavior. We know the minimum amount of information an algorithm needs to work its way to the end.\n",
    "\n",
    "One additional thing is, actually it's really hard to write this down. And a single row of our action list has some duplicated information. Maybe we can write it easier:"
   ]
  },
  {
   "cell_type": "code",
   "execution_count": null,
   "metadata": {},
   "outputs": [],
   "source": [
    "# screw_together( Chair leg, 30mm screw, screwdriver)\n",
    "# hammer_together( Chair seat,  wooden peg, hammer)\n",
    "# screw_together( Chair leg, 30mm screw, screwdriver)\n",
    "# ..."
   ]
  },
  {
   "cell_type": "markdown",
   "metadata": {},
   "source": [
    "### How does the algorithm look like?\n",
    "\n",
    "Generally speaking, for each furniture element, perform the instruction using a tool and some supplies.\n",
    "In pseudo code:"
   ]
  },
  {
   "cell_type": "code",
   "execution_count": null,
   "metadata": {},
   "outputs": [],
   "source": [
    "for action in list_of_actions:\n",
    "    action()"
   ]
  },
  {
   "cell_type": "markdown",
   "metadata": {},
   "source": [
    "Simple enough. But in the real world, it's better to hold such information in methods and classes. We will go back to this example when we learn more."
   ]
  }
 ],
 "metadata": {
  "kernelspec": {
   "display_name": "Python 3",
   "language": "python",
   "name": "python3"
  },
  "language_info": {
   "codemirror_mode": {
    "name": "ipython",
    "version": 3
   },
   "file_extension": ".py",
   "mimetype": "text/x-python",
   "name": "python",
   "nbconvert_exporter": "python",
   "pygments_lexer": "ipython3",
   "version": "3.6.2"
  }
 },
 "nbformat": 4,
 "nbformat_minor": 2
}
