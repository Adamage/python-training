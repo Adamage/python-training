{
 "cells": [
  {
   "cell_type": "markdown",
   "metadata": {},
   "source": [
    "### Python Training - Lesson 5 - Python idioms and Pythonic code"
   ]
  },
  {
   "cell_type": "markdown",
   "metadata": {},
   "source": [
    "## Python guidelines - how to code?\n",
    "\n",
    "### Style and readbility of code - PEP8\n",
    "PEP8 is a set of common sense practices and rules on how to format the text of code, how to name variables, when to make newline breaks, etc. You should familiarize yourself with this standard, as most of work environments will use this to some extent.\n",
    "https://www.python.org/dev/peps/pep-0008/\n",
    "\n",
    "### Zen of Python code - PEP20\n",
    "PEP20 is a set of short recommendations on how to write code. \n",
    "https://www.python.org/dev/peps/pep-0020/\n",
    "\n",
    "It's called Zen, because it's more of a spiritual guide, than a concrete ruleset. I recommend reading it, and a few examples on how this changes the look of code can be found here:\n",
    "https://gist.github.com/evandrix/2030615\n",
    "\n",
    "### Hitch-hiker's guide to Python\n",
    "The code style article can be found here:\n",
    "http://docs.python-guide.org/en/latest/writing/style/\n",
    "\n",
    "### Glossary\n",
    "This page has explanations for many words and acronyms used in Python world.\n",
    "https://docs.python.org/2/glossary.html\n",
    "\n",
    "I would expand here on these examples:\n",
    "\n",
    "## EAFP\n",
    "Easier to ask for forgiveness than permission."
   ]
  },
  {
   "cell_type": "code",
   "execution_count": null,
   "metadata": {},
   "outputs": [],
   "source": [
    "# Example of what that means:\n",
    "\n",
    "# Some dictionary which we obtained, have no control of.\n",
    "dictionary = {\"a\":1, \"b\":2, \"c\":3}\n",
    "\n",
    "# List of keys we always check.\n",
    "some_keys = [\"a\", \"b\", \"c\", \"d\"]"
   ]
  },
  {
   "cell_type": "code",
   "execution_count": null,
   "metadata": {},
   "outputs": [],
   "source": [
    "# Old-style way - Look before you leap (LBYL)\n",
    "for k in some_keys:\n",
    "    if k not in dictionary:\n",
    "        print(\"Expected to find key: \" + str(k) + \" but did not find it.\")\n",
    "        continue\n",
    "    else:\n",
    "        print(dictionary[k])\n",
    "    "
   ]
  },
  {
   "cell_type": "code",
   "execution_count": null,
   "metadata": {},
   "outputs": [],
   "source": [
    "# Pythonic way - ask for forgiveness, not permission\n",
    "for k in some_keys:\n",
    "    try:\n",
    "        print(dictionary[k])\n",
    "    except KeyError:\n",
    "        print(\"Expected to find key: \" + str(k) + \" but did not find it.\")\n",
    "        continue\n",
    "    except Exception as e:\n",
    "        print(\"Something terrible happened. Details: \" + str(e))\n",
    "        continue"
   ]
  },
  {
   "cell_type": "markdown",
   "metadata": {},
   "source": [
    "Observe the differences. In the first case, we always need to now what exactly we should check before we perform our operation (so we \"ask for permission\"). What if we don't know?\n",
    "\n",
    "Imagine - you open a file, but first you \"ask for permission\" - you check if the file exists. It exists, you open it, but then an exception is raised, like \"You do not have sufficient rights to read this file\". Our program fails.\n",
    "\n",
    "If you first perform an operation, and \"ask for forgiveness\", then you have a much greater control, and you communicate something with your code - that it should work most of the time, except some times it does not.\n",
    "\n",
    "If you always \"ask for permission\", then you are wasting computation.\n",
    "\n",
    "#### Some recommendations for the EAFP rule:\n",
    "##### EAFP (Easier to Ask for Forgiveness than Permission)\n",
    "\n",
    "IO operations (Hard drive and Networking)\n",
    "Actions that will almost always be successful\n",
    "Database operations (when dealing with transactions and can rollback)\n",
    "Fast prototyping in a throw away environment\n",
    "\n",
    "##### LBYL (Look Before You Leap):\n",
    "\n",
    "Irrevocable actions, or anything that may have a side effect\n",
    "Operation that may fail more times than succeed\n",
    "When an exception that needs special attention could be easily caught beforehand"
   ]
  },
  {
   "cell_type": "markdown",
   "metadata": {},
   "source": [
    "## Idiomatic Python\n",
    "\n",
    "First, I recommend watching this video:\n",
    "https://www.youtube.com/watch?v=OSGv2VnC0go\n",
    "\n",
    "\"Transforming Code into Beautiful, Idiomatic Python\"\n",
    "\n",
    "Most of these examples come from that video.\n",
    "\n",
    "### Pythonic, idiomatic Python\n",
    "It just means, that the code uses Python idioms, the Python features that make this programming language unique. The code will be more readable, expressive, will be able to do more things than you thought it can. Let's go through some examples.\n",
    "\n",
    "# Change many \"if\" into a dictionary\n",
    "To avoid the infamous \"if\" ladders, it is much much easier to change this into a dictionary.\n",
    "\n",
    "First examples shows how to change the argument of \"print\" function with this approach. Try to count how many less \"checks\" are performed by the system."
   ]
  },
  {
   "cell_type": "code",
   "execution_count": null,
   "metadata": {},
   "outputs": [],
   "source": [
    "# This is bad:\n",
    "s = [\"a\",1,(2,2), 20.00]\n",
    "\n",
    "for elem in s:\n",
    "    if isinstance(elem, str):\n",
    "        print(\"This is string\")\n",
    "    elif isinstance(elem, int):\n",
    "        print(\"This is an integer\")\n",
    "    elif isinstance(elem, tuple):\n",
    "        print(\"This is a tuple\")\n",
    "    else:\n",
    "        print(\"This is something else. Details:\" + str(type(elem)))"
   ]
  },
  {
   "cell_type": "code",
   "execution_count": null,
   "metadata": {},
   "outputs": [],
   "source": [
    "# This is good:\n",
    "s = [\"a\", 1, (2,2), 20.00]\n",
    "\n",
    "helper_dict = {\n",
    "    str: \"This is string\",\n",
    "    int: \"This is integer\",\n",
    "    tuple: \"This is a tuple\"}\n",
    "\n",
    "for elem in s:\n",
    "    # Notice \"asking for forgiveness\" and not \"permission\"\n",
    "    try:\n",
    "        print(helper_dict[type(elem)])\n",
    "    except Exception as e:\n",
    "        print(\"This is something else. Details: \" + str(e))"
   ]
  },
  {
   "cell_type": "code",
   "execution_count": null,
   "metadata": {},
   "outputs": [],
   "source": [
    "# Another example, but to store FUNCTIONS instead of VARIABLES\n",
    "from datetime import datetime\n",
    "helper_dict = {\"amount\": float, \"counter\": int, \"date\": datetime.strptime}\n",
    "\n",
    "# Types references are also functions that convert variables between types.\n",
    "\n",
    "some_dict = {\"currency\": \"USD\", \"amount\": \"10000\", \"source\": \"Poland\", \"target\": \"Poland\", \"counter\": \"9298\", \"date\": \"20171102\"}\n",
    "\n",
    "for key, value in some_dict.items():\n",
    "    try:\n",
    "        converted = helper_dict[key](value)\n",
    "    except Exception:\n",
    "        converted = str(value)\n",
    "    \n",
    "    print(converted)\n",
    "    print(type(converted))"
   ]
  },
  {
   "cell_type": "markdown",
   "metadata": {},
   "source": [
    "## Loop over a range of numbers"
   ]
  },
  {
   "cell_type": "code",
   "execution_count": null,
   "metadata": {},
   "outputs": [],
   "source": [
    "# This is not productive\n",
    "for i in [0,1,2,3,4,5]:\n",
    "    print(i)"
   ]
  },
  {
   "cell_type": "code",
   "execution_count": null,
   "metadata": {},
   "outputs": [],
   "source": [
    "# This is much better\n",
    "for i in range(6): \n",
    "    print(i)\n",
    "\n",
    "# The 'range' function does not return a simple list.\n",
    "# It returns an \"iterable\" - which gives you elements one at a time,\n",
    "# so the actual big list is not held there inside the statement."
   ]
  },
  {
   "cell_type": "markdown",
   "metadata": {},
   "source": [
    "## Loop forwards and backwards through a list"
   ]
  },
  {
   "cell_type": "code",
   "execution_count": null,
   "metadata": {},
   "outputs": [],
   "source": [
    "cars = ['ford', 'volvo', 'chevrolet']\n",
    "\n",
    "# This is bad\n",
    "for i in range(len(cars)): print(cars[i])"
   ]
  },
  {
   "cell_type": "code",
   "execution_count": null,
   "metadata": {},
   "outputs": [],
   "source": [
    "# This is better\n",
    "for car in cars: print(car)"
   ]
  },
  {
   "cell_type": "code",
   "execution_count": null,
   "metadata": {},
   "outputs": [],
   "source": [
    "# Reversed\n",
    "for car in reversed(cars): print(car)"
   ]
  },
  {
   "cell_type": "markdown",
   "metadata": {},
   "source": [
    "## Loop over a list AND the indexes at the same time"
   ]
  },
  {
   "cell_type": "code",
   "execution_count": null,
   "metadata": {},
   "outputs": [],
   "source": [
    "# I want to know the index of an item inside iteration\n",
    "\n",
    "# This is bad\n",
    "for i in range(len(cars)):\n",
    "    print(str(i) + \" \" + cars[i])"
   ]
  },
  {
   "cell_type": "code",
   "execution_count": null,
   "metadata": {},
   "outputs": [],
   "source": [
    "# This is better\n",
    "for i, car in enumerate(cars): print(str(i) + \" \" + car)"
   ]
  },
  {
   "cell_type": "markdown",
   "metadata": {},
   "source": [
    "## Loop over two lists at the same time"
   ]
  },
  {
   "cell_type": "code",
   "execution_count": null,
   "metadata": {},
   "outputs": [],
   "source": [
    "numbers = [1,2,3,3,4]\n",
    "letters = [\"a\", \"b\", \"c\", \"d\", \"e\"]\n",
    "\n",
    "# This is bad\n",
    "for i in range(len(numbers)):\n",
    "    print(str(numbers[i]) + \" \" + letters[i])"
   ]
  },
  {
   "cell_type": "code",
   "execution_count": null,
   "metadata": {},
   "outputs": [],
   "source": [
    "# This is better\n",
    "for number, letter in zip(numbers,letters): print(number,letter)"
   ]
  },
  {
   "cell_type": "markdown",
   "metadata": {},
   "source": [
    "## Calling a function until something happens"
   ]
  },
  {
   "cell_type": "code",
   "execution_count": null,
   "metadata": {},
   "outputs": [],
   "source": [
    "# Lets write a simple file\n",
    "import os\n",
    "\n",
    "filename = 'example.txt'\n",
    "\n",
    "try:\n",
    "    os.remove(filename)\n",
    "except OSError:\n",
    "    pass\n",
    "\n",
    "with open('example.txt', 'w+') as f:\n",
    "    [f.write(str(x) + \"\\n\") for x in range(0,20)]\n",
    "    "
   ]
  },
  {
   "cell_type": "code",
   "execution_count": null,
   "metadata": {},
   "outputs": [],
   "source": [
    "# Bad way\n",
    "with open('example.txt', 'r') as f:\n",
    "    while True:\n",
    "        line = f.readline()\n",
    "        if line == '':\n",
    "            break\n",
    "        print(line)"
   ]
  },
  {
   "cell_type": "code",
   "execution_count": null,
   "metadata": {},
   "outputs": [],
   "source": [
    "# Better way\n",
    "with open('example.txt', 'r') as f:\n",
    "    for line in iter(f.readline, ''):\n",
    "        print(line)"
   ]
  },
  {
   "cell_type": "markdown",
   "metadata": {},
   "source": [
    "## Looping over dictionary keys and values at the same time"
   ]
  },
  {
   "cell_type": "code",
   "execution_count": null,
   "metadata": {},
   "outputs": [],
   "source": [
    "dictionary = {k:v for k,v in zip(range(0,3), range(0,3))}\n",
    "\n",
    "# Bad Way\n",
    "for k in dictionary.keys():\n",
    "    print(k, dictionary[k])"
   ]
  },
  {
   "cell_type": "code",
   "execution_count": null,
   "metadata": {},
   "outputs": [],
   "source": [
    "# Much better way\n",
    "for k, v in dictionary.items():\n",
    "    print(k, v)"
   ]
  },
  {
   "cell_type": "markdown",
   "metadata": {},
   "source": [
    "## Unpacking sequences"
   ]
  },
  {
   "cell_type": "code",
   "execution_count": null,
   "metadata": {},
   "outputs": [],
   "source": [
    "seq = [\"a\", \"b\", \"c\", \"d\"]\n",
    "\n",
    "# Bad way\n",
    "first = seq[0]\n",
    "second = seq[1]\n",
    "third = seq[2]\n",
    "fourth = seq[3]\n",
    "print(first, second, third, fourth)"
   ]
  },
  {
   "cell_type": "code",
   "execution_count": null,
   "metadata": {},
   "outputs": [],
   "source": [
    "# Better way\n",
    "first, second, third, fourth = seq\n",
    "print(first, second, third, fourth)"
   ]
  },
  {
   "cell_type": "markdown",
   "metadata": {},
   "source": [
    "## Unpacking with wildcard \"*\""
   ]
  },
  {
   "cell_type": "code",
   "execution_count": null,
   "metadata": {},
   "outputs": [],
   "source": [
    "seq = [\"a\", \"b\", \"c\", \"d\", \"e\", \"d\"]\n",
    "start, *middle, end = seq\n",
    "print(start)\n",
    "print(middle)\n",
    "print(end)"
   ]
  },
  {
   "cell_type": "markdown",
   "metadata": {},
   "source": [
    "## Updating multiple variables at once"
   ]
  },
  {
   "cell_type": "code",
   "execution_count": null,
   "metadata": {},
   "outputs": [],
   "source": [
    "# Bad fibonacci implementation\n",
    "\n",
    "def fibonacci(n):\n",
    "    x = 0\n",
    "    y = 1\n",
    "    for i in range(n):\n",
    "        print(x)\n",
    "        t = y\n",
    "        y = x + y\n",
    "        x = t\n",
    "\n",
    "fibonacci(8)"
   ]
  },
  {
   "cell_type": "code",
   "execution_count": null,
   "metadata": {},
   "outputs": [],
   "source": [
    "# Simpler implementation\n",
    "\n",
    "def fibonacci(n):\n",
    "    x, y = 0, 1\n",
    "    for i in range(n):\n",
    "        print(x)\n",
    "        x, y = y, x + y\n",
    "\n",
    "fibonacci(8)"
   ]
  },
  {
   "cell_type": "code",
   "execution_count": null,
   "metadata": {},
   "outputs": [],
   "source": [
    "# Multiple updates at the same time\n",
    "x, y, z, u = range(0,4)\n",
    "print(x, y, z, u)\n",
    "\n",
    "x, y, z, u = x + 1, y + z, u - x, z**2\n",
    "print(x, y, z, u)"
   ]
  },
  {
   "cell_type": "markdown",
   "metadata": {},
   "source": [
    "## Basics of itertools\n",
    "These tools provide some nice operations you can do on collections."
   ]
  },
  {
   "cell_type": "code",
   "execution_count": null,
   "metadata": {},
   "outputs": [],
   "source": [
    "import itertools"
   ]
  },
  {
   "cell_type": "code",
   "execution_count": null,
   "metadata": {},
   "outputs": [],
   "source": [
    "# List all the different sequences of a starting list\n",
    "\n",
    "permutations = itertools.permutations([1,2,3])\n",
    "print(list(permutations))"
   ]
  },
  {
   "cell_type": "code",
   "execution_count": null,
   "metadata": {},
   "outputs": [],
   "source": [
    "# Cycle constantly through a short sequence\n",
    "from itertools import cycle\n",
    "\n",
    "counter = 20\n",
    "for item in cycle('Adamek'):\n",
    "    if counter > 0:\n",
    "        print(item)\n",
    "        counter -= 1\n",
    "    "
   ]
  }
 ],
 "metadata": {
  "kernelspec": {
   "display_name": "Python 3",
   "language": "python",
   "name": "python3"
  },
  "language_info": {
   "codemirror_mode": {
    "name": "ipython",
    "version": 3
   },
   "file_extension": ".py",
   "mimetype": "text/x-python",
   "name": "python",
   "nbconvert_exporter": "python",
   "pygments_lexer": "ipython3",
   "version": "3.6.2"
  }
 },
 "nbformat": 4,
 "nbformat_minor": 2
}
