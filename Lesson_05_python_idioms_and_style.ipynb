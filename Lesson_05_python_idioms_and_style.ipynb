{
 "cells": [
  {
   "cell_type": "markdown",
   "metadata": {},
   "source": [
    "### Python Training - Lesson 5 - Python idioms and Pythonic code"
   ]
  },
  {
   "cell_type": "markdown",
   "metadata": {},
   "source": [
    "## Python guidelines - how to code?\n",
    "\n",
    "### Style and readbility of code - PEP8\n",
    "PEP8 is a set of common sense practices and rules on how to format the text of code, how to name variables, when to make newline breaks, etc. You should familiarize yourself with this standard, as most of work environments will use this to some extent.\n",
    "https://www.python.org/dev/peps/pep-0008/\n",
    "\n",
    "### Zen of Python code - PEP20\n",
    "PEP20 is a set of short recommendations on how to write code. \n",
    "https://www.python.org/dev/peps/pep-0020/\n",
    "\n",
    "It's called Zen, because it's more of a spiritual guide, than a concrete ruleset. I recommend reading it, and a few examples on how this changes the look of code can be found here:\n",
    "https://gist.github.com/evandrix/2030615\n",
    "\n",
    "### Hitch-hiker's guide to Python\n",
    "The code style article can be found here:\n",
    "http://docs.python-guide.org/en/latest/writing/style/\n",
    "\n",
    "### Glossary\n",
    "This page has explanations for many words and acronyms used in Python world.\n",
    "https://docs.python.org/2/glossary.html\n",
    "\n",
    "I would expand here on these examples:\n",
    "\n",
    "## EAFP\n",
    "Easier to ask for forgiveness than permission."
   ]
  },
  {
   "cell_type": "code",
   "execution_count": 108,
   "metadata": {},
   "outputs": [],
   "source": [
    "# Example of what that means:\n",
    "\n",
    "# Some dictionary which we obtained, have no control of.\n",
    "dictionary = {\"a\":1, \"b\":2, \"c\":3}\n",
    "\n",
    "# List of keys we always check.\n",
    "some_keys = [\"a\", \"b\", \"c\", \"d\"]"
   ]
  },
  {
   "cell_type": "code",
   "execution_count": 109,
   "metadata": {},
   "outputs": [
    {
     "name": "stdout",
     "output_type": "stream",
     "text": [
      "1\n",
      "2\n",
      "3\n",
      "Expected to find key: d but did not find it.\n"
     ]
    }
   ],
   "source": [
    "# Old-style way - Look before you leap (LBYL)\n",
    "for k in some_keys:\n",
    "    if k not in dictionary:\n",
    "        print(\"Expected to find key: \" + str(k) + \" but did not find it.\")\n",
    "        continue\n",
    "    else:\n",
    "        print(dictionary[k])\n",
    "    "
   ]
  },
  {
   "cell_type": "code",
   "execution_count": 110,
   "metadata": {},
   "outputs": [
    {
     "name": "stdout",
     "output_type": "stream",
     "text": [
      "1\n",
      "2\n",
      "3\n",
      "Expected to find key: d but did not find it.\n"
     ]
    }
   ],
   "source": [
    "# Pythonic way - ask for forgiveness, not permission\n",
    "for k in some_keys:\n",
    "    try:\n",
    "        print(dictionary[k])\n",
    "    except KeyError:\n",
    "        print(\"Expected to find key: \" + str(k) + \" but did not find it.\")\n",
    "        continue\n",
    "    except Exception as e:\n",
    "        print(\"Something terrible happened. Details: \" + str(e))\n",
    "        continue"
   ]
  },
  {
   "cell_type": "markdown",
   "metadata": {},
   "source": [
    "Observe the differences. In the first case, we always need to now what exactly we should check before we perform our operation (so we \"ask for permission\"). What if we don't know?\n",
    "\n",
    "Imagine - you open a file, but first you \"ask for permission\" - you check if the file exists. It exists, you open it, but then an exception is raised, like \"You do not have sufficient rights to read this file\". Our program fails.\n",
    "\n",
    "If you first perform an operation, and \"ask for forgiveness\", then you have a much greater control, and you communicate something with your code - that it should work most of the time, except some times it does not.\n",
    "\n",
    "If you always \"ask for permission\", then you are wasting computation.\n",
    "\n",
    "#### Some recommendations for the EAFP rule:\n",
    "##### EAFP (Easier to Ask for Forgiveness than Permission)\n",
    "\n",
    "IO operations (Hard drive and Networking)\n",
    "Actions that will almost always be successful\n",
    "Database operations (when dealing with transactions and can rollback)\n",
    "Fast prototyping in a throw away environment\n",
    "\n",
    "##### LBYL (Look Before You Leap):\n",
    "\n",
    "Irrevocable actions, or anything that may have a side effect\n",
    "Operation that may fail more times than succeed\n",
    "When an exception that needs special attention could be easily caught beforehand"
   ]
  },
  {
   "cell_type": "markdown",
   "metadata": {},
   "source": [
    "## Idiomatic Python\n",
    "\n",
    "First, I recommend watching this video:\n",
    "https://www.youtube.com/watch?v=OSGv2VnC0go\n",
    "\n",
    "\"Transforming Code into Beautiful, Idiomatic Python\"\n",
    "\n",
    "Most of these examples come from that video.\n",
    "\n",
    "### Pythonic, idiomatic Python\n",
    "It just means, that the code uses Python idioms, the Python features that make this programming language unique. The code will be more readable, expressive, will be able to do more things than you thought it can. Let's go through some examples.\n",
    "\n",
    "# Change many \"if\" into a dictionary\n",
    "To avoid the infamous \"if\" ladders, it is much much easier to change this into a dictionary.\n",
    "\n",
    "First examples shows how to change the argument of \"print\" function with this approach. Try to count how many less \"checks\" are performed by the system."
   ]
  },
  {
   "cell_type": "code",
   "execution_count": 111,
   "metadata": {},
   "outputs": [
    {
     "name": "stdout",
     "output_type": "stream",
     "text": [
      "This is string\n",
      "This is an integer\n",
      "This is a tuple\n",
      "This is something else. Details:<class 'float'>\n"
     ]
    }
   ],
   "source": [
    "# This is bad:\n",
    "s = [\"a\",1,(2,2), 20.00]\n",
    "\n",
    "for elem in s:\n",
    "    if isinstance(elem, str):\n",
    "        print(\"This is string\")\n",
    "    elif isinstance(elem, int):\n",
    "        print(\"This is an integer\")\n",
    "    elif isinstance(elem, tuple):\n",
    "        print(\"This is a tuple\")\n",
    "    else:\n",
    "        print(\"This is something else. Details:\" + str(type(elem)))"
   ]
  },
  {
   "cell_type": "code",
   "execution_count": 112,
   "metadata": {},
   "outputs": [
    {
     "name": "stdout",
     "output_type": "stream",
     "text": [
      "This is string\n",
      "This is integer\n",
      "This is a tuple\n",
      "This is something else. Details: <class 'float'>\n"
     ]
    }
   ],
   "source": [
    "# This is good:\n",
    "s = [\"a\", 1, (2,2), 20.00]\n",
    "\n",
    "helper_dict = {\n",
    "    str: \"This is string\",\n",
    "    int: \"This is integer\",\n",
    "    tuple: \"This is a tuple\"}\n",
    "\n",
    "for elem in s:\n",
    "    # Notice \"asking for forgiveness\" and not \"permission\"\n",
    "    try:\n",
    "        print(helper_dict[type(elem)])\n",
    "    except Exception as e:\n",
    "        print(\"This is something else. Details: \" + str(e))"
   ]
  },
  {
   "cell_type": "code",
   "execution_count": 107,
   "metadata": {},
   "outputs": [
    {
     "name": "stdout",
     "output_type": "stream",
     "text": [
      "USD\n",
      "<class 'str'>\n",
      "10000.0\n",
      "<class 'float'>\n",
      "Poland\n",
      "<class 'str'>\n",
      "Poland\n",
      "<class 'str'>\n",
      "9298\n",
      "<class 'int'>\n",
      "20171102\n",
      "<class 'str'>\n"
     ]
    }
   ],
   "source": [
    "# Another example, but to store FUNCTIONS instead of VARIABLES\n",
    "from datetime import datetime\n",
    "helper_dict = {\"amount\": float, \"counter\": int, \"date\": datetime.strptime}\n",
    "\n",
    "# Types references are also functions that convert variables between types.\n",
    "\n",
    "some_dict = {\"currency\": \"USD\", \"amount\": \"10000\", \"source\": \"Poland\", \"target\": \"Poland\", \"counter\": \"9298\", \"date\": \"20171102\"}\n",
    "\n",
    "for key, value in some_dict.items():\n",
    "    try:\n",
    "        converted = helper_dict[key](value)\n",
    "    except Exception:\n",
    "        converted = str(value)\n",
    "    \n",
    "    print(converted)\n",
    "    print(type(converted))"
   ]
  }
 ],
 "metadata": {
  "kernelspec": {
   "display_name": "Python 3",
   "language": "python",
   "name": "python3"
  },
  "language_info": {
   "codemirror_mode": {
    "name": "ipython",
    "version": 3
   },
   "file_extension": ".py",
   "mimetype": "text/x-python",
   "name": "python",
   "nbconvert_exporter": "python",
   "pygments_lexer": "ipython3",
   "version": "3.6.2"
  }
 },
 "nbformat": 4,
 "nbformat_minor": 2
}
