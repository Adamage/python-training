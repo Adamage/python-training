{
 "cells": [
  {
   "cell_type": "markdown",
   "metadata": {},
   "source": [
    "# Python Training - Lesson 1 - Variables and Data Types\n",
    "## Variables"
   ]
  },
  {
   "cell_type": "markdown",
   "metadata": {},
   "source": [
    "A variable refers to a certain value with specific type. For example, we may want to store a number, a fraction, or a name, date, maybe a list of numbers. All those need to be reachable using some name, some reference, which we create when we create a variable.\n",
    "After we create a variable with a value, we can peek at what's inside using \"print\" method."
   ]
  },
  {
   "cell_type": "code",
   "execution_count": 36,
   "metadata": {},
   "outputs": [
    {
     "name": "stdout",
     "output_type": "stream",
     "text": [
      "Adam\n"
     ]
    }
   ],
   "source": [
    "my_name = 'Adam'\n",
    "print my_name"
   ]
  },
  {
   "cell_type": "code",
   "execution_count": 37,
   "metadata": {},
   "outputs": [
    {
     "name": "stdout",
     "output_type": "stream",
     "text": [
      "69\n"
     ]
    }
   ],
   "source": [
    "my_age = 92\n",
    "your_age = 23\n",
    "age_difference = my_age - your_age\n",
    "print age_difference"
   ]
  },
  {
   "cell_type": "markdown",
   "metadata": {},
   "source": [
    "## How to assign values to variables?\n",
    "### Single assignment"
   ]
  },
  {
   "cell_type": "code",
   "execution_count": 38,
   "metadata": {},
   "outputs": [],
   "source": [
    "a = 1"
   ]
  },
  {
   "cell_type": "markdown",
   "metadata": {},
   "source": [
    "### Multiple assignment"
   ]
  },
  {
   "cell_type": "code",
   "execution_count": 39,
   "metadata": {},
   "outputs": [
    {
     "name": "stdout",
     "output_type": "stream",
     "text": [
      "1 2 3\n"
     ]
    }
   ],
   "source": [
    "a, b, c = 1, 2, 3\n",
    "print a, b, c"
   ]
  },
  {
   "cell_type": "code",
   "execution_count": 40,
   "metadata": {},
   "outputs": [
    {
     "name": "stdout",
     "output_type": "stream",
     "text": [
      "The same string The same string The same string The same string\n"
     ]
    }
   ],
   "source": [
    "a = b = c = d = \"The same string\"\n",
    "print a, b, c, d"
   ]
  },
  {
   "cell_type": "markdown",
   "metadata": {},
   "source": [
    "### What is a reference? What is a value?"
   ]
  },
  {
   "cell_type": "markdown",
   "metadata": {},
   "source": [
    "You could ask: does Python use call-by-value, or call-by-reference? Neither of those, actually. Variables in Python are \"names\", that _ALWAYS_ _bind_ to some _object_, because mostly everything in Python is an object, a complex type. So assigning a variable means, binding this \"name\" to an _object_.\n",
    "\n",
    "Actually, each time you create a number, you are not using a classic approach, like for example in C++:\n",
    "\n",
    "int my_integer = 1;\n",
    "\n",
    "When we look at an integer in Python, it's actually an object of type 'int'. To check the type of an object, use the \"type\" method."
   ]
  },
  {
   "cell_type": "code",
   "execution_count": 41,
   "metadata": {},
   "outputs": [
    {
     "data": {
      "text/plain": [
       "int"
      ]
     },
     "execution_count": 41,
     "metadata": {},
     "output_type": "execute_result"
    }
   ],
   "source": [
    "type(my_age)"
   ]
  },
  {
   "cell_type": "markdown",
   "metadata": {},
   "source": [
    "To be completely precise, let's look at creating two variables that store some names. To see where in memory does the object go, we can use method \"id\". To see the hex representation of this memory, as you will usually see, we can use the method \"id\"."
   ]
  },
  {
   "cell_type": "code",
   "execution_count": 42,
   "metadata": {},
   "outputs": [
    {
     "name": "stdout",
     "output_type": "stream",
     "text": [
      "Andrew <type 'str'> 0x5954b70L\n",
      "22 <type 'int'> 0x1d07f60L\n"
     ]
    }
   ],
   "source": [
    "some_person = \"Andrew\"\n",
    "person_age = 22\n",
    "print some_person, type(some_person), hex(id(some_person))\n",
    "print person_age, type(person_age), hex(id(person_age))"
   ]
  },
  {
   "cell_type": "markdown",
   "metadata": {},
   "source": [
    "Now, let's change this name to something else."
   ]
  },
  {
   "cell_type": "code",
   "execution_count": 43,
   "metadata": {},
   "outputs": [
    {
     "name": "stdout",
     "output_type": "stream",
     "text": [
      "Jamie <type 'str'> 0x5954710L\n",
      "24 <type 'int'> 0x1d07f30L\n"
     ]
    }
   ],
   "source": [
    "some_person = \"Jamie\"\n",
    "person_age = 24\n",
    "print some_person, type(some_person), hex(id(some_person))\n",
    "print person_age, type(person_age), hex(id(person_age))"
   ]
  },
  {
   "cell_type": "markdown",
   "metadata": {},
   "source": [
    "The important bit is that, even though we use the same variable \"person_age\", the memory address changed. The object holding integer '22' is still living somewhere on the process heap, but is no longer bound to any name, and probably will be deleted by the \"Garbage Collector\". The binding that exists now, if from name \"person_age\" to the _int object_ \"24\".\n",
    "\n",
    "The same can be said about variable 'some_person'."
   ]
  },
  {
   "cell_type": "markdown",
   "metadata": {},
   "source": [
    "### Mutability and immutability"
   ]
  },
  {
   "cell_type": "markdown",
   "metadata": {},
   "source": [
    "The reason we need to talk about this, is that when you use variables in Python, you have to understand that such a \"binding\" can be shared! When you modify one, the other shared bindings will be modified as well! This is true for \"mutable\" objects. There are also \"immutable\" objects, that behave in a standard, standalone, not-changeable way."
   ]
  },
  {
   "cell_type": "markdown",
   "metadata": {},
   "source": [
    "Immutable types: int, float, decimal, complex, bool, string, tuple, range, frozenset, bytes\n",
    "\n",
    "Mutable types: list, dict, set, bytearray, user-defined classes"
   ]
  },
  {
   "cell_type": "code",
   "execution_count": 44,
   "metadata": {
    "collapsed": true
   },
   "outputs": [
    {
     "name": "stdout",
     "output_type": "stream",
     "text": [
      "[11, 22] [11, 22] [11, 22]\n"
     ]
    }
   ],
   "source": [
    "shared_list = [11,22]\n",
    "my_list = shared_list\n",
    "your_list = shared_list\n",
    "print shared_list, my_list, your_list"
   ]
  },
  {
   "cell_type": "markdown",
   "metadata": {},
   "source": [
    "Now, when we modify the binding of 'shared_list' variable, both of our variables will change also!"
   ]
  },
  {
   "cell_type": "code",
   "execution_count": 45,
   "metadata": {},
   "outputs": [
    {
     "name": "stdout",
     "output_type": "stream",
     "text": [
      "[11, 22, 33] [11, 22, 33] [11, 22, 33]\n"
     ]
    }
   ],
   "source": [
    "shared_list.append(33)\n",
    "print shared_list, my_list, your_list"
   ]
  },
  {
   "cell_type": "markdown",
   "metadata": {},
   "source": [
    "This can be very confusing later on, if you do not grasp this right now. Feel free to play around :)"
   ]
  },
  {
   "cell_type": "markdown",
   "metadata": {},
   "source": [
    "# Data types\n",
    "What is a data type? It is a way of telling our computer, that we want to store a specific kind of information in a particular variable. This allows us to access tools and mechanisms that are allowed for that type.\n",
    "\n",
    "We already mentioned that actually every time we create a variable, we create a complex type variable, or an object.\n",
    "\n",
    "This is called creating an object, or _instantiating_ an object. Each object comes from a specific _template_, or how we call it in Object Oriented Programming, from a _class_.\n",
    "\n",
    "So when you assign a variable, you instantiate an object from a class.\n",
    "\n",
    "In Python, every data type _is_ a class!\n",
    "\n",
    "Also, we will use some built-in tools for inspection - type()  and  isinstance() functions. The function type() will just say from which class does this object come from. THe function isinstance() will take an object reference, and then a class name, and will tell you if this is an instance of this class.\n",
    "\n",
    "\n",
    "Let's review data types used in Python (most of them).\n",
    "\n",
    "## Numeric types\n"
   ]
  },
  {
   "cell_type": "markdown",
   "metadata": {},
   "source": [
    "These types allow you to store numbers. Easy.\n",
    "\n",
    "#### int\n",
    "Integers. If you create a really big integer, it will become a 'long integer', or 'long'."
   ]
  },
  {
   "cell_type": "code",
   "execution_count": 46,
   "metadata": {},
   "outputs": [
    {
     "name": "stdout",
     "output_type": "stream",
     "text": [
      "111 <type 'int'>\n"
     ]
    }
   ],
   "source": [
    "a = 111\n",
    "print a, type(a)"
   ]
  },
  {
   "cell_type": "code",
   "execution_count": 47,
   "metadata": {},
   "outputs": [
    {
     "name": "stdout",
     "output_type": "stream",
     "text": [
      "111111111111111111111111111111111 <type 'long'>\n"
     ]
    }
   ],
   "source": [
    "b = 111111111111111111111111111111111\n",
    "print b, type(b)"
   ]
  },
  {
   "cell_type": "markdown",
   "metadata": {},
   "source": [
    "#### float\n",
    "Floating decimal point numbers. Used usually for everything that is not an 'int'."
   ]
  },
  {
   "cell_type": "code",
   "execution_count": 48,
   "metadata": {},
   "outputs": [
    {
     "name": "stdout",
     "output_type": "stream",
     "text": [
      "11.33333 <type 'float'>\n",
      "11111.33 <type 'float'>\n"
     ]
    }
   ],
   "source": [
    "c = 11.33333\n",
    "d = 11111.33\n",
    "print c, type(c)\n",
    "print d, type(d)"
   ]
  },
  {
   "cell_type": "markdown",
   "metadata": {},
   "source": [
    "#### complex\n",
    "Complex numbers. Advanced sorceries of mathematicians. In simple terms, numbers that have two components. Historically, they were named 'real' component (regular numbers) and 'imaginary' component - marked in Python using the 'j' letter."
   ]
  },
  {
   "cell_type": "code",
   "execution_count": 50,
   "metadata": {},
   "outputs": [
    {
     "name": "stdout",
     "output_type": "stream",
     "text": [
      "(2+3j) <type 'complex'>\n"
     ]
    }
   ],
   "source": [
    "c = 2 + 3j\n",
    "print c, type(c)"
   ]
  },
  {
   "cell_type": "markdown",
   "metadata": {},
   "source": [
    "## Strings\n",
    "Represents text, or to be more specific, sequences of 'Unicode' characters. To let Python know we are using strings, put them in quotes, either single, or double."
   ]
  },
  {
   "cell_type": "code",
   "execution_count": 51,
   "metadata": {},
   "outputs": [
    {
     "name": "stdout",
     "output_type": "stream",
     "text": [
      "<type 'str'> <type 'str'>\n"
     ]
    }
   ],
   "source": [
    "a = \"Something\"\n",
    "b = 'Something else'\n",
    "print type(a), type(b)"
   ]
  },
  {
   "cell_type": "markdown",
   "metadata": {},
   "source": [
    "Even though strings are not numbers, you can do a lot of operations on them using the usual operators."
   ]
  },
  {
   "cell_type": "code",
   "execution_count": 61,
   "metadata": {},
   "outputs": [
    {
     "name": "stdout",
     "output_type": "stream",
     "text": [
      "AdamAdam\n",
      "AdamAdamAdam\n"
     ]
    }
   ],
   "source": [
    "name = 'Adam'\n",
    "print name + name\n",
    "print name * 3"
   ]
  },
  {
   "cell_type": "markdown",
   "metadata": {},
   "source": [
    "Actually, strings are 'lists' of characters. We will explore lists in just a moment, but I want you to become familiar with a new notation. It is based on the order of sequence. When I say, \"Give me the second character of this string\", I can write is as such:"
   ]
  },
  {
   "cell_type": "code",
   "execution_count": 64,
   "metadata": {},
   "outputs": [
    {
     "name": "stdout",
     "output_type": "stream",
     "text": [
      "Second character is:  d\n"
     ]
    }
   ],
   "source": [
    "print 'Second character is:  ' + name[1]"
   ]
  },
  {
   "cell_type": "markdown",
   "metadata": {},
   "source": [
    "Since we are counting from 0, the second character has _index_ = 1.\n",
    "\n",
    "Now, say I want characters from second, to fourth."
   ]
  },
  {
   "cell_type": "code",
   "execution_count": 66,
   "metadata": {},
   "outputs": [
    {
     "name": "stdout",
     "output_type": "stream",
     "text": [
      "From second to fourth: dam\n"
     ]
    }
   ],
   "source": [
    "print 'From second to fourth: ' + name[1:4]"
   ]
  },
  {
   "cell_type": "code",
   "execution_count": 67,
   "metadata": {},
   "outputs": [
    {
     "name": "stdout",
     "output_type": "stream",
     "text": [
      "The last character (or first counting from the end) is: m\n"
     ]
    }
   ],
   "source": [
    "print 'The last character (or first counting from the end) is: ' + name[-1]"
   ]
  },
  {
   "cell_type": "code",
   "execution_count": 68,
   "metadata": {},
   "outputs": [
    {
     "name": "stdout",
     "output_type": "stream",
     "text": [
      "All characters, but skip every second: Aa\n"
     ]
    }
   ],
   "source": [
    "print 'All characters, but skip every second: ' + name[0:4:2]"
   ]
  },
  {
   "cell_type": "markdown",
   "metadata": {},
   "source": [
    "These operations are called 'slicing'."
   ]
  },
  {
   "cell_type": "markdown",
   "metadata": {},
   "source": [
    "## List\n",
    "Prepare to use this data type _A LOT_. Lists can store any objects, and have as many elements, as you like. The most important thing about lists, is that their elements are _ordered_. You can create a list by making an empty list, converting something else to a list, or defining elements of a list right there, when you declare it."
   ]
  },
  {
   "cell_type": "code",
   "execution_count": 52,
   "metadata": {},
   "outputs": [
    {
     "name": "stdout",
     "output_type": "stream",
     "text": [
      "[]\n",
      "['I', ' ', 'f', 'e', 'e', 'l', ' ', 'l', 'i', 'k', 'e', ' ', 'I', 'm', ' ', 'g', 'o', 'i', 'n', 'g', ' ', 't', 'o', ' ', 'e', 'x', 'p', 'l', 'o', 'd', 'e']\n",
      "[1, 2, 3, 4]\n"
     ]
    }
   ],
   "source": [
    "empty_list = []\n",
    "list_from_something_else = list('I feel like Im going to explode')\n",
    "list_elements_defined_when_list_is_created = [1, 2, 3, 4]\n",
    "print empty_list\n",
    "print list_from_something_else\n",
    "print list_elements_defined_when_list_is_created"
   ]
  },
  {
   "cell_type": "markdown",
   "metadata": {},
   "source": [
    "But lists are not only used to hold some sequences! You can iterate over a list. This means no more, no less, then doing something for each of the elements in a given range, or for all of them. We will cover the so-called 'for' loop in next lessons, but I guess you can easily imagine what this minimal example would do."
   ]
  },
  {
   "cell_type": "code",
   "execution_count": 56,
   "metadata": {},
   "outputs": [
    {
     "name": "stdout",
     "output_type": "stream",
     "text": [
      "21\n",
      "22\n",
      "23\n"
     ]
    }
   ],
   "source": [
    "# Do something for all of elements.\n",
    "for element in [1, 2, 3]:\n",
    "    print element + 20"
   ]
  },
  {
   "cell_type": "code",
   "execution_count": 57,
   "metadata": {},
   "outputs": [
    {
     "name": "stdout",
     "output_type": "stream",
     "text": [
      "20\n",
      "21\n",
      "22\n"
     ]
    }
   ],
   "source": [
    "# Do something for numbers coming from a range of numbers.\n",
    "for number in range(0,3):\n",
    "    print number + 20"
   ]
  },
  {
   "cell_type": "code",
   "execution_count": 71,
   "metadata": {},
   "outputs": [
    {
     "name": "stdout",
     "output_type": "stream",
     "text": [
      "['aa', 'bb', 'cc']\n"
     ]
    }
   ],
   "source": [
    "# Do something for all of elements, but written in a short way.\n",
    "some_list = ['a', 'b', 'c']\n",
    "print [element*2 for element in some_list]"
   ]
  },
  {
   "cell_type": "markdown",
   "metadata": {},
   "source": [
    "Even though the short notation is a more advanced topic, it is very elegant and 'pythonic'. This way of writing down the process of iteration is called 'list comprehensions'."
   ]
  }
 ],
 "metadata": {
  "kernelspec": {
   "display_name": "Python 2",
   "language": "python",
   "name": "python2"
  },
  "language_info": {
   "codemirror_mode": {
    "name": "ipython",
    "version": 2
   },
   "file_extension": ".py",
   "mimetype": "text/x-python",
   "name": "python",
   "nbconvert_exporter": "python",
   "pygments_lexer": "ipython2",
   "version": "2.7.13"
  }
 },
 "nbformat": 4,
 "nbformat_minor": 2
}
