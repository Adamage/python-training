{
 "cells": [
  {
   "cell_type": "markdown",
   "metadata": {},
   "source": [
    "# Python Training - Lesson 1 - Variables and Data Types\n",
    "## Variables"
   ]
  },
  {
   "cell_type": "markdown",
   "metadata": {},
   "source": [
    "A variable refers to a certain value with specific type. For example, we may want to store a number, a fraction, or a name, date, maybe a list of numbers. All those need to be reachable using some name, some reference, which we create when we create a variable.\n",
    "After we create a variable with a value, we can peek at what's inside using \"print\" method."
   ]
  },
  {
   "cell_type": "code",
   "execution_count": 75,
   "metadata": {},
   "outputs": [
    {
     "name": "stdout",
     "output_type": "stream",
     "text": [
      "Adam\n"
     ]
    }
   ],
   "source": [
    "my_name = 'Adam'\n",
    "print my_name"
   ]
  },
  {
   "cell_type": "code",
   "execution_count": 76,
   "metadata": {},
   "outputs": [
    {
     "name": "stdout",
     "output_type": "stream",
     "text": [
      "69\n"
     ]
    }
   ],
   "source": [
    "my_age = 92\n",
    "your_age = 23\n",
    "age_difference = my_age - your_age\n",
    "print age_difference"
   ]
  },
  {
   "cell_type": "markdown",
   "metadata": {},
   "source": [
    "## How to assign values to variables?\n",
    "### Single assignment"
   ]
  },
  {
   "cell_type": "code",
   "execution_count": 77,
   "metadata": {},
   "outputs": [],
   "source": [
    "a = 1"
   ]
  },
  {
   "cell_type": "markdown",
   "metadata": {},
   "source": [
    "### Multiple assignment"
   ]
  },
  {
   "cell_type": "code",
   "execution_count": 78,
   "metadata": {},
   "outputs": [
    {
     "name": "stdout",
     "output_type": "stream",
     "text": [
      "1 2 3\n"
     ]
    }
   ],
   "source": [
    "a, b, c = 1, 2, 3\n",
    "print a, b, c"
   ]
  },
  {
   "cell_type": "code",
   "execution_count": 79,
   "metadata": {},
   "outputs": [
    {
     "name": "stdout",
     "output_type": "stream",
     "text": [
      "The same string The same string The same string The same string\n"
     ]
    }
   ],
   "source": [
    "a = b = c = d = \"The same string\"\n",
    "print a, b, c, d"
   ]
  },
  {
   "cell_type": "markdown",
   "metadata": {},
   "source": [
    "### What is a reference? What is a value?"
   ]
  },
  {
   "cell_type": "markdown",
   "metadata": {},
   "source": [
    "You could ask: does Python use call-by-value, or call-by-reference? Neither of those, actually. Variables in Python are \"names\", that _ALWAYS_ _bind_ to some _object_, because mostly everything in Python is an object, a complex type. So assigning a variable means, binding this \"name\" to an _object_.\n",
    "\n",
    "Actually, each time you create a number, you are not using a classic approach, like for example in C++:\n",
    "\n",
    "int my_integer = 1;\n",
    "\n",
    "When we look at an integer in Python, it's actually an object of type 'int'. To check the type of an object, use the \"type\" method."
   ]
  },
  {
   "cell_type": "code",
   "execution_count": 80,
   "metadata": {},
   "outputs": [
    {
     "data": {
      "text/plain": [
       "int"
      ]
     },
     "execution_count": 80,
     "metadata": {},
     "output_type": "execute_result"
    }
   ],
   "source": [
    "type(my_age)"
   ]
  },
  {
   "cell_type": "markdown",
   "metadata": {},
   "source": [
    "To be completely precise, let's look at creating two variables that store some names. To see where in memory does the object go, we can use method \"id\". To see the hex representation of this memory, as you will usually see, we can use the method \"id\"."
   ]
  },
  {
   "cell_type": "code",
   "execution_count": 81,
   "metadata": {},
   "outputs": [
    {
     "name": "stdout",
     "output_type": "stream",
     "text": [
      "Andrew <type 'str'> 0x5a3e8a0L\n",
      "22 <type 'int'> 0x1d47f60L\n"
     ]
    }
   ],
   "source": [
    "some_person = \"Andrew\"\n",
    "person_age = 22\n",
    "print some_person, type(some_person), hex(id(some_person))\n",
    "print person_age, type(person_age), hex(id(person_age))"
   ]
  },
  {
   "cell_type": "markdown",
   "metadata": {},
   "source": [
    "Now, let's change this name to something else."
   ]
  },
  {
   "cell_type": "code",
   "execution_count": 82,
   "metadata": {},
   "outputs": [
    {
     "name": "stdout",
     "output_type": "stream",
     "text": [
      "Jamie <type 'str'> 0x5a3e878L\n",
      "24 <type 'int'> 0x1d47f30L\n"
     ]
    }
   ],
   "source": [
    "some_person = \"Jamie\"\n",
    "person_age = 24\n",
    "print some_person, type(some_person), hex(id(some_person))\n",
    "print person_age, type(person_age), hex(id(person_age))"
   ]
  },
  {
   "cell_type": "markdown",
   "metadata": {},
   "source": [
    "The important bit is that, even though we use the same variable \"person_age\", the memory address changed. The object holding integer '22' is still living somewhere on the process heap, but is no longer bound to any name, and probably will be deleted by the \"Garbage Collector\". The binding that exists now, if from name \"person_age\" to the _int object_ \"24\".\n",
    "\n",
    "The same can be said about variable 'some_person'."
   ]
  },
  {
   "cell_type": "markdown",
   "metadata": {},
   "source": [
    "### Mutability and immutability"
   ]
  },
  {
   "cell_type": "markdown",
   "metadata": {},
   "source": [
    "The reason we need to talk about this, is that when you use variables in Python, you have to understand that such a \"binding\" can be shared! When you modify one, the other shared bindings will be modified as well! This is true for \"mutable\" objects. There are also \"immutable\" objects, that behave in a standard, standalone, not-changeable way."
   ]
  },
  {
   "cell_type": "markdown",
   "metadata": {},
   "source": [
    "Immutable types: int, float, decimal, complex, bool, string, tuple, range, frozenset, bytes\n",
    "\n",
    "Mutable types: list, dict, set, bytearray, user-defined classes"
   ]
  },
  {
   "cell_type": "code",
   "execution_count": 83,
   "metadata": {
    "collapsed": true
   },
   "outputs": [
    {
     "name": "stdout",
     "output_type": "stream",
     "text": [
      "[11, 22] [11, 22] [11, 22]\n"
     ]
    }
   ],
   "source": [
    "shared_list = [11,22]\n",
    "my_list = shared_list\n",
    "your_list = shared_list\n",
    "print shared_list, my_list, your_list"
   ]
  },
  {
   "cell_type": "markdown",
   "metadata": {},
   "source": [
    "Now, when we modify the binding of 'shared_list' variable, both of our variables will change also!"
   ]
  },
  {
   "cell_type": "code",
   "execution_count": 84,
   "metadata": {},
   "outputs": [
    {
     "name": "stdout",
     "output_type": "stream",
     "text": [
      "[11, 22, 33] [11, 22, 33] [11, 22, 33]\n"
     ]
    }
   ],
   "source": [
    "shared_list.append(33)\n",
    "print shared_list, my_list, your_list"
   ]
  },
  {
   "cell_type": "markdown",
   "metadata": {},
   "source": [
    "This can be very confusing later on, if you do not grasp this right now. Feel free to play around :)"
   ]
  },
  {
   "cell_type": "markdown",
   "metadata": {},
   "source": [
    "# Data types\n",
    "What is a data type? It is a way of telling our computer, that we want to store a specific kind of information in a particular variable. This allows us to access tools and mechanisms that are allowed for that type.\n",
    "\n",
    "We already mentioned that actually every time we create a variable, we create a complex type variable, or an object.\n",
    "\n",
    "This is called creating an object, or _instantiating_ an object. Each object comes from a specific _template_, or how we call it in Object Oriented Programming, from a _class_.\n",
    "\n",
    "So when you assign a variable, you instantiate an object from a class.\n",
    "\n",
    "In Python, every data type _is_ a class!\n",
    "\n",
    "Also, we will use some built-in tools for inspection - type()  and  isinstance() functions. The function type() will just say from which class does this object come from. THe function isinstance() will take an object reference, and then a class name, and will tell you if this is an instance of this class.\n",
    "\n",
    "\n",
    "Let's review data types used in Python (most of them).\n",
    "\n",
    "## Numeric types\n"
   ]
  },
  {
   "cell_type": "markdown",
   "metadata": {},
   "source": [
    "These types allow you to store numbers. Easy.\n",
    "\n",
    "#### int\n",
    "Integers. If you create a really big integer, it will become a 'long integer', or 'long'."
   ]
  },
  {
   "cell_type": "code",
   "execution_count": 85,
   "metadata": {},
   "outputs": [
    {
     "name": "stdout",
     "output_type": "stream",
     "text": [
      "111 <type 'int'>\n"
     ]
    }
   ],
   "source": [
    "a = 111\n",
    "print a, type(a)"
   ]
  },
  {
   "cell_type": "code",
   "execution_count": 86,
   "metadata": {},
   "outputs": [
    {
     "name": "stdout",
     "output_type": "stream",
     "text": [
      "111111111111111111111111111111111 <type 'long'>\n"
     ]
    }
   ],
   "source": [
    "b = 111111111111111111111111111111111\n",
    "print b, type(b)"
   ]
  },
  {
   "cell_type": "markdown",
   "metadata": {},
   "source": [
    "#### float\n",
    "Floating decimal point numbers. Used usually for everything that is not an 'int'."
   ]
  },
  {
   "cell_type": "code",
   "execution_count": 87,
   "metadata": {},
   "outputs": [
    {
     "name": "stdout",
     "output_type": "stream",
     "text": [
      "11.33333 <type 'float'>\n",
      "11111.33 <type 'float'>\n"
     ]
    }
   ],
   "source": [
    "c = 11.33333\n",
    "d = 11111.33\n",
    "print c, type(c)\n",
    "print d, type(d)"
   ]
  },
  {
   "cell_type": "markdown",
   "metadata": {},
   "source": [
    "#### complex\n",
    "Complex numbers. Advanced sorceries of mathematicians. In simple terms, numbers that have two components. Historically, they were named 'real' component (regular numbers) and 'imaginary' component - marked in Python using the 'j' letter."
   ]
  },
  {
   "cell_type": "code",
   "execution_count": 88,
   "metadata": {},
   "outputs": [
    {
     "name": "stdout",
     "output_type": "stream",
     "text": [
      "(2+3j) <type 'complex'>\n"
     ]
    }
   ],
   "source": [
    "c = 2 + 3j\n",
    "print c, type(c)"
   ]
  },
  {
   "cell_type": "markdown",
   "metadata": {},
   "source": [
    "#### Numeric operations"
   ]
  },
  {
   "cell_type": "code",
   "execution_count": 4,
   "metadata": {},
   "outputs": [
    {
     "name": "stdout",
     "output_type": "stream",
     "text": [
      "2\n",
      "4\n",
      "2.0\n",
      "1\n",
      "16\n"
     ]
    }
   ],
   "source": [
    "# Addition\n",
    "print(1+1)\n",
    "\n",
    "# Multiplication\n",
    "print(2*2)\n",
    "\n",
    "# Division\n",
    "print(4/2)\n",
    "\n",
    "# Remainder of division\n",
    "print(5%2)\n",
    "\n",
    "# Power\n",
    "print(2**4)"
   ]
  },
  {
   "cell_type": "markdown",
   "metadata": {},
   "source": [
    "## Strings\n",
    "Represents text, or to be more specific, sequences of 'Unicode' characters. To let Python know we are using strings, put them in quotes, either single, or double."
   ]
  },
  {
   "cell_type": "code",
   "execution_count": 89,
   "metadata": {},
   "outputs": [
    {
     "name": "stdout",
     "output_type": "stream",
     "text": [
      "<type 'str'> <type 'str'>\n"
     ]
    }
   ],
   "source": [
    "a = \"Something\"\n",
    "b = 'Something else'\n",
    "print type(a), type(b)"
   ]
  },
  {
   "cell_type": "markdown",
   "metadata": {},
   "source": [
    "Even though strings are not numbers, you can do a lot of operations on them using the usual operators."
   ]
  },
  {
   "cell_type": "code",
   "execution_count": 90,
   "metadata": {},
   "outputs": [
    {
     "name": "stdout",
     "output_type": "stream",
     "text": [
      "AdamAdam\n",
      "AdamAdamAdam\n"
     ]
    }
   ],
   "source": [
    "name = 'Adam'\n",
    "print name + name\n",
    "print name * 3"
   ]
  },
  {
   "cell_type": "markdown",
   "metadata": {},
   "source": [
    "Actually, strings are 'lists' of characters. We will explore lists in just a moment, but I want you to become familiar with a new notation. It is based on the order of sequence. When I say, \"Give me the second character of this string\", I can write is as such:"
   ]
  },
  {
   "cell_type": "code",
   "execution_count": 91,
   "metadata": {},
   "outputs": [
    {
     "name": "stdout",
     "output_type": "stream",
     "text": [
      "Second character is:  d\n"
     ]
    }
   ],
   "source": [
    "print 'Second character is:  ' + name[1]"
   ]
  },
  {
   "cell_type": "markdown",
   "metadata": {},
   "source": [
    "Since we are counting from 0, the second character has _index_ = 1.\n",
    "\n",
    "Now, say I want characters from second, to fourth."
   ]
  },
  {
   "cell_type": "code",
   "execution_count": 92,
   "metadata": {},
   "outputs": [
    {
     "name": "stdout",
     "output_type": "stream",
     "text": [
      "From second to fourth: dam\n"
     ]
    }
   ],
   "source": [
    "print 'From second to fourth: ' + name[1:4]"
   ]
  },
  {
   "cell_type": "code",
   "execution_count": 93,
   "metadata": {},
   "outputs": [
    {
     "name": "stdout",
     "output_type": "stream",
     "text": [
      "The last character (or first counting from the end) is: m\n"
     ]
    }
   ],
   "source": [
    "print 'The last character (or first counting from the end) is: ' + name[-1]"
   ]
  },
  {
   "cell_type": "code",
   "execution_count": 94,
   "metadata": {},
   "outputs": [
    {
     "name": "stdout",
     "output_type": "stream",
     "text": [
      "All characters, but skip every second: Aa\n"
     ]
    }
   ],
   "source": [
    "print 'All characters, but skip every second: ' + name[0:4:2]"
   ]
  },
  {
   "cell_type": "markdown",
   "metadata": {},
   "source": [
    "These operations are called 'slicing'.\n",
    "\n",
    "We can also find substrings in other substrings. THe result is the index, at which this substring occurs."
   ]
  },
  {
   "cell_type": "code",
   "execution_count": 6,
   "metadata": {},
   "outputs": [
    {
     "name": "stdout",
     "output_type": "stream",
     "text": [
      "Lets see what we found:\n",
      "xx\n"
     ]
    }
   ],
   "source": [
    "some_string = \"AAAAAAAAAAAAAAAAAAAAAAAAAAAAAxxAAAAAAAAAAAAAAAAAAAA\"\n",
    "substring = \"xx\"\n",
    "location = some_string.find(substring)\n",
    "\n",
    "print(\"Lets see what we found:\")\n",
    "print(some_string[location:location+len(substring)])"
   ]
  },
  {
   "cell_type": "markdown",
   "metadata": {},
   "source": [
    "We can also replace substrings in a bigger string. Very convenient. But more complex replacements or searches are done using regular expressions, which we will cover later"
   ]
  },
  {
   "cell_type": "code",
   "execution_count": 7,
   "metadata": {},
   "outputs": [
    {
     "name": "stdout",
     "output_type": "stream",
     "text": [
      "AAAAAAAAAAAAAAAAAAAAAAAAAAAAA___REPLACED___AAAAAAAAAAAAAAAAAAAA\n"
     ]
    }
   ],
   "source": [
    "some_string = \"AAAAAAAAAAAAAAAAAAAAAAAAAAAAAxxAAAAAAAAAAAAAAAAAAAA\"\n",
    "substring = \"xx\"\n",
    "\n",
    "print(some_string.replace( substring , \"___REPLACED___\"))"
   ]
  },
  {
   "cell_type": "markdown",
   "metadata": {},
   "source": [
    "## Boolean\n",
    "It represents the True and False values. Variables of this type, can be only True or False.\n",
    "It is useful to know, that in Python we can check any variable to be True or False, even lists!\n",
    "\n",
    "We use the bool() function."
   ]
  },
  {
   "cell_type": "code",
   "execution_count": 5,
   "metadata": {},
   "outputs": [
    {
     "name": "stdout",
     "output_type": "stream",
     "text": [
      "Is a equal to b ?\n",
      "False\n",
      "Logical AND\n",
      "False\n",
      "Logical OR\n",
      "True\n",
      "Logical value of True\n",
      "True\n",
      "Logical value of an empty list\n",
      "False\n",
      "Logical value of an empty string\n",
      "False\n",
      "Logical value of integer 0\n",
      "False\n"
     ]
    }
   ],
   "source": [
    "a = True\n",
    "b = False\n",
    "\n",
    "print(\"Is a equal to b ?\")\n",
    "print(a==b)\n",
    "\n",
    "print(\"Logical AND\")\n",
    "print(a and b)\n",
    "\n",
    "print(\"Logical OR\")\n",
    "print(a or b)\n",
    "\n",
    "print(\"Logical value of True\")\n",
    "print( bool(a) )\n",
    "\n",
    "print(\"Logical value of an empty list\")\n",
    "print( bool([]) )\n",
    "\n",
    "print(\"Logical value of an empty string\")\n",
    "print( bool(\"\") )\n",
    "\n",
    "print(\"Logical value of integer 0\")\n",
    "print( bool(0) )"
   ]
  },
  {
   "cell_type": "markdown",
   "metadata": {},
   "source": [
    "## List\n",
    "Prepare to use this data type _A LOT_. Lists can store any objects, and have as many elements, as you like. The most important thing about lists, is that their elements are _ordered_. You can create a list by making an empty list, converting something else to a list, or defining elements of a list right there, when you declare it.\n",
    "#### Creating lists."
   ]
  },
  {
   "cell_type": "code",
   "execution_count": 95,
   "metadata": {},
   "outputs": [
    {
     "name": "stdout",
     "output_type": "stream",
     "text": [
      "[]\n",
      "['I', ' ', 'f', 'e', 'e', 'l', ' ', 'l', 'i', 'k', 'e', ' ', 'I', 'm', ' ', 'g', 'o', 'i', 'n', 'g', ' ', 't', 'o', ' ', 'e', 'x', 'p', 'l', 'o', 'd', 'e']\n",
      "[1, 2, 3, 4]\n"
     ]
    }
   ],
   "source": [
    "empty_list = []\n",
    "list_from_something_else = list('I feel like Im going to explode')\n",
    "list_elements_defined_when_list_is_created = [1, 2, 3, 4]\n",
    "print empty_list\n",
    "print list_from_something_else\n",
    "print list_elements_defined_when_list_is_created"
   ]
  },
  {
   "cell_type": "markdown",
   "metadata": {},
   "source": [
    "#### Selecting from lists"
   ]
  },
  {
   "cell_type": "code",
   "execution_count": 96,
   "metadata": {},
   "outputs": [
    {
     "name": "stdout",
     "output_type": "stream",
     "text": [
      "a\n",
      "e\n",
      "['b', 'c']\n"
     ]
    }
   ],
   "source": [
    "l = [\"a\", \"b\", \"c\", \"d\", \"e\"]\n",
    "print l[0]\n",
    "print l[-1]\n",
    "print l[1:3]"
   ]
  },
  {
   "cell_type": "markdown",
   "metadata": {},
   "source": [
    "#### Adding and removing from a list"
   ]
  },
  {
   "cell_type": "code",
   "execution_count": 97,
   "metadata": {},
   "outputs": [
    {
     "name": "stdout",
     "output_type": "stream",
     "text": [
      "[1]\n",
      "[222]\n"
     ]
    }
   ],
   "source": [
    "l = []\n",
    "l.append(1)\n",
    "print l\n",
    "l[0] = 222\n",
    "print l"
   ]
  },
  {
   "cell_type": "code",
   "execution_count": 98,
   "metadata": {},
   "outputs": [
    {
     "ename": "ValueError",
     "evalue": "list.remove(x): x not in list",
     "output_type": "error",
     "traceback": [
      "\u001b[1;31m---------------------------------------------------------------------------\u001b[0m",
      "\u001b[1;31mValueError\u001b[0m                                Traceback (most recent call last)",
      "\u001b[1;32m<ipython-input-98-ad0322e67e7f>\u001b[0m in \u001b[0;36m<module>\u001b[1;34m()\u001b[0m\n\u001b[1;32m----> 1\u001b[1;33m \u001b[0ml\u001b[0m\u001b[1;33m.\u001b[0m\u001b[0mremove\u001b[0m\u001b[1;33m(\u001b[0m\u001b[1;36m1\u001b[0m\u001b[1;33m)\u001b[0m\u001b[1;33m\u001b[0m\u001b[0m\n\u001b[0m\u001b[0;32m      2\u001b[0m \u001b[1;32mprint\u001b[0m \u001b[0ml\u001b[0m\u001b[1;33m\u001b[0m\u001b[0m\n",
      "\u001b[1;31mValueError\u001b[0m: list.remove(x): x not in list"
     ]
    }
   ],
   "source": [
    "l.remove(1)\n",
    "print l"
   ]
  },
  {
   "cell_type": "code",
   "execution_count": null,
   "metadata": {},
   "outputs": [],
   "source": [
    "l = [1,2,3,3,4,5,3,2,3,2]\n",
    "\n",
    "# Make a new list from a part of that list\n",
    "new = l[4:7]\n",
    "print new"
   ]
  },
  {
   "cell_type": "markdown",
   "metadata": {},
   "source": [
    "#### Iterating over a list\n",
    "But lists are not only used to hold some sequences! You can iterate over a list. This means no more, no less, then doing something for each of the elements in a given range, or for all of them. We will cover the so-called 'for' loop in next lessons, but I guess you can easily imagine what this minimal example would do."
   ]
  },
  {
   "cell_type": "code",
   "execution_count": null,
   "metadata": {},
   "outputs": [],
   "source": [
    "# Do something for all of elements.\n",
    "for element in [1, 2, 3]:\n",
    "    print element + 20"
   ]
  },
  {
   "cell_type": "code",
   "execution_count": null,
   "metadata": {},
   "outputs": [],
   "source": [
    "# Do something for numbers coming from a range of numbers.\n",
    "for number in range(0,3):\n",
    "    print number + 20"
   ]
  },
  {
   "cell_type": "code",
   "execution_count": null,
   "metadata": {},
   "outputs": [],
   "source": [
    "# Do something for all of elements, but written in a short way.\n",
    "some_list = ['a', 'b', 'c']\n",
    "print [element*2 for element in some_list]"
   ]
  },
  {
   "cell_type": "markdown",
   "metadata": {},
   "source": [
    "Even though the short notation is a more advanced topic, it is very elegant and 'pythonic'. This way of writing down the process of iteration is called 'list comprehensions'."
   ]
  },
  {
   "cell_type": "markdown",
   "metadata": {},
   "source": [
    "## Tuple\n",
    "A tuple is a simple data structure - it behaves pretty much like a list, except for one fact - you can not change elements of tuple after it is created! You create it the same as a list, but using normal brackets."
   ]
  },
  {
   "cell_type": "code",
   "execution_count": null,
   "metadata": {},
   "outputs": [],
   "source": [
    "some_tuple = (1,3,4)\n",
    "print some_tuple\n",
    "print type(some_tuple)\n",
    "print len(some_tuple)\n",
    "print some_tuple[0]\n",
    "print some_tuple[-1]\n",
    "print some_tuple[1:2]\n",
    "\n",
    "\n",
    "other_tuple = 1, 2, 3\n",
    "print other_tuple\n",
    "print type(other_tuple)"
   ]
  },
  {
   "cell_type": "code",
   "execution_count": null,
   "metadata": {},
   "outputs": [],
   "source": [
    "# This will cause an error! You can not modify a tuple.\n",
    "some_tuple[1] = 22"
   ]
  },
  {
   "cell_type": "markdown",
   "metadata": {},
   "source": [
    "## Dictionary\n",
    "This data structure is very useful. In essence, it stores pairs of values, first of which is always a \"key\", a unique identifier, and the \"value\", which is the connected object.\n",
    "A dictionary performs a _mapping_ between keys and values. Because the key is always unique (has to be, we will find out in a minute), there is always exactly one key with specific content.\n",
    "A dictionary is also very efficient - finding a value in a dictionary takes only one operation, whereas searching through a list one by one could require going through the whole list. \n",
    "This means that for any situation, where you need to store lot's of values, that will be often used, it is much better to store them in a dictionary.\n",
    "Also, I recommend to read on Wikipedia on \"hash maps\".\n",
    "\n",
    "### Creating dictionaries"
   ]
  },
  {
   "cell_type": "code",
   "execution_count": null,
   "metadata": {},
   "outputs": [],
   "source": [
    "empty_dictionary = {}\n",
    "print empty_dictionary\n",
    "print type(empty_dictionary)"
   ]
  },
  {
   "cell_type": "code",
   "execution_count": null,
   "metadata": {},
   "outputs": [],
   "source": [
    "dictionary_from_direct_definition = {\"key1\": 1, \"key2\": 33}\n",
    "print dictionary_from_direct_definition"
   ]
  },
  {
   "cell_type": "code",
   "execution_count": null,
   "metadata": {},
   "outputs": [],
   "source": [
    "# Let's create a dictionary from a list of tuples\n",
    "dictionary_from_a_collection = dict([(\"a\", 1), (\"b\", 2)])\n",
    "print dictionary_from_a_collection"
   ]
  },
  {
   "cell_type": "code",
   "execution_count": null,
   "metadata": {},
   "outputs": [],
   "source": [
    "# Let's create a dictionary from two lists\n",
    "some_list_with_strings = [\"a\", \"b\", \"c\"]\n",
    "some_list_with_numbers = [1,2,3]\n",
    "dictionary_from_two_lists = dict(zip(some_list_with_strings, some_list_with_numbers))\n",
    "print dictionary_from_two_lists\n",
    "print type(dictionary_from_two_lists)"
   ]
  },
  {
   "cell_type": "code",
   "execution_count": null,
   "metadata": {},
   "outputs": [],
   "source": [
    "# Let's create a dictionary from a dictionary comprehension\n",
    "dict_from_comprehension = {key:value for key, value in zip(some_list_with_strings, some_list_with_numbers)}\n",
    "print dict_from_comprehension"
   ]
  },
  {
   "cell_type": "markdown",
   "metadata": {},
   "source": [
    "### Using dictionaries\n",
    "#### Add key-value pairs"
   ]
  },
  {
   "cell_type": "code",
   "execution_count": null,
   "metadata": {},
   "outputs": [],
   "source": [
    "d = {}\n",
    "d[\"a\"] = 1\n",
    "d[\"bs\"] = 22\n",
    "d[\"ddddd\"] = 31\n",
    "print d"
   ]
  },
  {
   "cell_type": "code",
   "execution_count": null,
   "metadata": {},
   "outputs": [],
   "source": [
    "d.update({\"b\": 2, \"c\": 3})\n",
    "print d"
   ]
  },
  {
   "cell_type": "markdown",
   "metadata": {},
   "source": [
    "#### Remove items"
   ]
  },
  {
   "cell_type": "code",
   "execution_count": null,
   "metadata": {},
   "outputs": [],
   "source": [
    "del d[\"b\"]\n",
    "print d"
   ]
  },
  {
   "cell_type": "code",
   "execution_count": null,
   "metadata": {},
   "outputs": [],
   "source": [
    "d.pop(\"c\")\n",
    "print d"
   ]
  },
  {
   "cell_type": "markdown",
   "metadata": {},
   "source": [
    "#### Inspect a dictionary"
   ]
  },
  {
   "cell_type": "code",
   "execution_count": null,
   "metadata": {},
   "outputs": [],
   "source": [
    "# How many keys?\n",
    "print d.keys()\n",
    "print len(d)\n",
    "print len(d.keys())"
   ]
  },
  {
   "cell_type": "code",
   "execution_count": null,
   "metadata": {},
   "outputs": [],
   "source": [
    "# How many values?\n",
    "print d.values()\n",
    "print len(d.values())"
   ]
  },
  {
   "cell_type": "markdown",
   "metadata": {},
   "source": [
    "#### Iterate over dictionary"
   ]
  },
  {
   "cell_type": "code",
   "execution_count": null,
   "metadata": {},
   "outputs": [],
   "source": [
    "for key, value in d.items():\n",
    "    print key, value"
   ]
  },
  {
   "cell_type": "markdown",
   "metadata": {},
   "source": [
    "#### Example of looking for a specific thing in a list, and in a dictionary:\n"
   ]
  },
  {
   "cell_type": "code",
   "execution_count": null,
   "metadata": {},
   "outputs": [],
   "source": [
    "l = [\"r\", \"p\", \"s\", \"t\"]\n",
    "d = {a: a for a in l}\n",
    "\n",
    "# Find \"t\" in list.\n",
    "for letter in l:\n",
    "    if letter == \"t\":\n",
    "        print \"Found it!\"\n",
    "    else:\n",
    "        print \"Not yet!\"\n",
    "\n",
    "# Find \"t\" in dictionary keys.\n",
    "print \"In dictionary - found it! \" + d[\"t\"]\n"
   ]
  },
  {
   "cell_type": "markdown",
   "metadata": {},
   "source": [
    "## Sets\n",
    "A set behaves pretty much like a mixture of a dictionary and a list. It has two features:\n",
    "- it only has unique values\n",
    "- it does not respect order of things - it has no order, like a dictionary"
   ]
  },
  {
   "cell_type": "code",
   "execution_count": null,
   "metadata": {},
   "outputs": [],
   "source": [
    "some_sequence = [1,1,1,1,2,2,2,3,3,3]\n",
    "some_set = set(some_sequence)\n",
    "print some_set\n",
    "\n",
    "some_string = \"What's going ooooon?\"\n",
    "another_set = set(some_string)\n",
    "print another_set"
   ]
  },
  {
   "cell_type": "code",
   "execution_count": null,
   "metadata": {},
   "outputs": [],
   "source": [
    "some_dictionary = {\"a\": 2, \"b\": 2}\n",
    "print some_dictionary\n",
    "\n",
    "\n",
    "yet_another_set = set(some_dictionary)\n",
    "print yet_another_set\n",
    "\n",
    "print set(some_dictionary.values())"
   ]
  }
 ],
 "metadata": {
  "kernelspec": {
   "display_name": "Python 3",
   "language": "python",
   "name": "python3"
  },
  "language_info": {
   "codemirror_mode": {
    "name": "ipython",
    "version": 3
   },
   "file_extension": ".py",
   "mimetype": "text/x-python",
   "name": "python",
   "nbconvert_exporter": "python",
   "pygments_lexer": "ipython3",
   "version": "3.6.2"
  }
 },
 "nbformat": 4,
 "nbformat_minor": 2
}
