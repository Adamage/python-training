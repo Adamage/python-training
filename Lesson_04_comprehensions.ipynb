{
 "cells": [
  {
   "cell_type": "markdown",
   "metadata": {},
   "source": [
    "### Python Training - Lesson 4 - Python 'comprehensions'"
   ]
  },
  {
   "cell_type": "markdown",
   "metadata": {},
   "source": [
    "Comprehensions are code patterns, or constructs, that allow collections to be built in a short, concise way, from other collections.\n",
    "\n",
    "### Advantages of using comprehensions\n",
    "- code is shorter and more expressive\n",
    "- execution of code written as comprehensions is more than 30% - 50% faster\n",
    "\n",
    "### Disadvantages\n",
    "- if you do not follow good readbility rules, such code is hard to understand\n",
    "\n",
    "#### Types of comprehensions in Python 3\n",
    "Python 3 comes with built-in comprehension syntax for lists, dictionaries and sets.\n",
    "\n",
    "## List comprehensions"
   ]
  },
  {
   "cell_type": "code",
   "execution_count": 43,
   "metadata": {},
   "outputs": [
    {
     "name": "stdout",
     "output_type": "stream",
     "text": [
      "[0, 1, 2, 3, 4, 5, 6, 7, 8, 9]\n"
     ]
    }
   ],
   "source": [
    "# Creating a list\n",
    "s = []\n",
    "\n",
    "# Filling the list\n",
    "for element in range(0,10):\n",
    "    s.append(element)\n",
    "\n",
    "print(s)"
   ]
  },
  {
   "cell_type": "code",
   "execution_count": 44,
   "metadata": {},
   "outputs": [
    {
     "name": "stdout",
     "output_type": "stream",
     "text": [
      "[0, 1, 2, 3, 4, 5, 6, 7, 8, 9]\n"
     ]
    }
   ],
   "source": [
    "# Using list comprehension\n",
    "s = [element for element in range(0,10)]\n",
    "print(s)"
   ]
  },
  {
   "cell_type": "code",
   "execution_count": 45,
   "metadata": {},
   "outputs": [
    {
     "name": "stdout",
     "output_type": "stream",
     "text": [
      "[0, 2, 4, 6, 8]\n"
     ]
    }
   ],
   "source": [
    "# Additional conditions\n",
    "\n",
    "# Skip odd numbers\n",
    "s = [x for x in range(0,10) if x%2 == 0]\n",
    "print(s)"
   ]
  },
  {
   "cell_type": "code",
   "execution_count": 46,
   "metadata": {},
   "outputs": [
    {
     "name": "stdout",
     "output_type": "stream",
     "text": [
      "[6, 8]\n"
     ]
    }
   ],
   "source": [
    "# Multiple conditions\n",
    "s = [x for x in range(0,10) if x%2==0 and x > 4]\n",
    "print(s)"
   ]
  },
  {
   "cell_type": "code",
   "execution_count": 47,
   "metadata": {},
   "outputs": [
    {
     "name": "stdout",
     "output_type": "stream",
     "text": [
      "[(0, 0), (0, 1), (0, 2), (0, 3), (0, 4), (1, 0), (1, 1), (1, 2), (1, 3), (1, 4), (2, 0), (2, 1), (2, 2), (2, 3), (2, 4), (3, 0), (3, 1), (3, 2), (3, 3), (3, 4), (4, 0), (4, 1), (4, 2), (4, 3), (4, 4), (5, 0), (5, 1), (5, 2), (5, 3), (5, 4), (6, 0), (6, 1), (6, 2), (6, 3), (6, 4), (7, 0), (7, 1), (7, 2), (7, 3), (7, 4), (8, 0), (8, 1), (8, 2), (8, 3), (8, 4), (9, 0), (9, 1), (9, 2), (9, 3), (9, 4)]\n"
     ]
    }
   ],
   "source": [
    "# Nested comprehension\n",
    "\n",
    "# Regular construction\n",
    "s = []\n",
    "for x in range(0,10):\n",
    "    for y in range(0,5):\n",
    "        s.append((x,y))\n",
    "print(s)\n",
    "        "
   ]
  },
  {
   "cell_type": "code",
   "execution_count": 48,
   "metadata": {},
   "outputs": [
    {
     "name": "stdout",
     "output_type": "stream",
     "text": [
      "[(0, 0), (0, 1), (0, 2), (0, 3), (0, 4), (1, 0), (1, 1), (1, 2), (1, 3), (1, 4), (2, 0), (2, 1), (2, 2), (2, 3), (2, 4), (3, 0), (3, 1), (3, 2), (3, 3), (3, 4), (4, 0), (4, 1), (4, 2), (4, 3), (4, 4), (5, 0), (5, 1), (5, 2), (5, 3), (5, 4), (6, 0), (6, 1), (6, 2), (6, 3), (6, 4), (7, 0), (7, 1), (7, 2), (7, 3), (7, 4), (8, 0), (8, 1), (8, 2), (8, 3), (8, 4), (9, 0), (9, 1), (9, 2), (9, 3), (9, 4)]\n"
     ]
    }
   ],
   "source": [
    "# Nested comprehension - implementation\n",
    "s = [(x,y) for x in range(0,10) for y in range(0,5)]\n",
    "print(s)"
   ]
  },
  {
   "cell_type": "code",
   "execution_count": 49,
   "metadata": {},
   "outputs": [
    {
     "name": "stdout",
     "output_type": "stream",
     "text": [
      "[(4, 0), (4, 1), (4, 2), (4, 3), (5, 0), (5, 1), (5, 2), (5, 3), (6, 0), (6, 1), (6, 2), (6, 3), (7, 0), (7, 1), (7, 2), (7, 3), (8, 0), (8, 1), (8, 2), (8, 3), (9, 0), (9, 1), (9, 2), (9, 3)]\n"
     ]
    }
   ],
   "source": [
    "# Visually clear formatting for more complicated situation\n",
    "s = [(x,y) for x in range(0,10)\n",
    "           for y in range(0,5)\n",
    "           if x>3\n",
    "           and y < 4]\n",
    "print(s)"
   ]
  },
  {
   "cell_type": "code",
   "execution_count": 50,
   "metadata": {},
   "outputs": [
    {
     "name": "stdout",
     "output_type": "stream",
     "text": [
      "[0, 1, 2]\n"
     ]
    }
   ],
   "source": [
    "# Stacking comprehensions\n",
    "s = [x for x in [y for y in [z for z in range(0,3)]]]\n",
    "print(s)"
   ]
  },
  {
   "cell_type": "code",
   "execution_count": 51,
   "metadata": {},
   "outputs": [
    {
     "name": "stdout",
     "output_type": "stream",
     "text": [
      "[0, 1, 2, 4]\n"
     ]
    }
   ],
   "source": [
    "# You can apply all operations that work on lists, as comprehensions work on lists.\n",
    "s = [x for x in range (0,3)] + [y for y in range(4,5)]\n",
    "print(s)"
   ]
  },
  {
   "cell_type": "code",
   "execution_count": 52,
   "metadata": {},
   "outputs": [
    {
     "name": "stdout",
     "output_type": "stream",
     "text": [
      "[0, 1, 8, 27, 64, 125, 216, 343, 512, 729, 1000, 1331, 1728, 2197, 2744]\n"
     ]
    }
   ],
   "source": [
    "# Practical examples\n",
    "\n",
    "# Producing cubed numbers for each item in list\n",
    "l = range(0,15)\n",
    "cubed = [x**3 for x in l]\n",
    "print(cubed)"
   ]
  },
  {
   "cell_type": "markdown",
   "metadata": {},
   "source": [
    "## Dictionary comprehensions\n",
    "\n",
    "This patterns allow for creating dictionaries using other lists or dictionaries or to transform a dictionary."
   ]
  },
  {
   "cell_type": "code",
   "execution_count": 53,
   "metadata": {},
   "outputs": [
    {
     "name": "stdout",
     "output_type": "stream",
     "text": [
      "{'a': 0, 'b': 1, 'c': 2}\n"
     ]
    }
   ],
   "source": [
    "# Create dictionary from two lists.\n",
    "\n",
    "d = {a:b for a,b in zip(['a', 'b', 'c'], range(0,3))}\n",
    "print(d)"
   ]
  },
  {
   "cell_type": "code",
   "execution_count": 54,
   "metadata": {},
   "outputs": [
    {
     "name": "stdout",
     "output_type": "stream",
     "text": [
      "{'a': 0, 'b': 2, 'c': 4}\n",
      "{'aa': 0, 'bb': 1, 'cc': 2}\n"
     ]
    }
   ],
   "source": [
    "# Transform dictionary.\n",
    "\n",
    "transformed = {key: value*2 for (key,value) in d.items()}\n",
    "print(transformed)\n",
    "\n",
    "transformed_keys = {key*2: value for (key,value) in d.items()}\n",
    "print(transformed_keys)"
   ]
  },
  {
   "cell_type": "code",
   "execution_count": 55,
   "metadata": {},
   "outputs": [
    {
     "name": "stdout",
     "output_type": "stream",
     "text": [
      "{'b': 1}\n"
     ]
    }
   ],
   "source": [
    "# Conditions\n",
    "d = {a:b for a,b\n",
    "         in zip(['a', 'b', 'c'], range(0,3))\n",
    "         if a != 'c'\n",
    "         and b > 0}\n",
    "print(d)"
   ]
  },
  {
   "cell_type": "code",
   "execution_count": 56,
   "metadata": {},
   "outputs": [
    {
     "name": "stdout",
     "output_type": "stream",
     "text": [
      "{'a': '0 is even', 'b': '1 is odd', 'c': '2 is even', 'd': '3 is odd'}\n"
     ]
    }
   ],
   "source": [
    "# Do you have a complex condition using if-else? No problem!\n",
    "\n",
    "d = {a:(str(b) + \" is even\" \n",
    "        if b%2==0 \n",
    "        else str(b) + \" is odd\")\n",
    "     for a,b\n",
    "     in zip(['a', 'b', 'c', 'd'], range(0,4))}\n",
    "print(d)"
   ]
  },
  {
   "cell_type": "code",
   "execution_count": 57,
   "metadata": {},
   "outputs": [
    {
     "name": "stdout",
     "output_type": "stream",
     "text": [
      "{0: 0, 1: 1, 2: 4}\n"
     ]
    }
   ],
   "source": [
    "# Using just one list\n",
    "d = {a:a**2 for a in range(0,3)}\n",
    "print(d)"
   ]
  },
  {
   "cell_type": "code",
   "execution_count": 58,
   "metadata": {},
   "outputs": [
    {
     "name": "stdout",
     "output_type": "stream",
     "text": [
      "{'something': {'a 1'}, 'something_else': {'b 4'}}\n"
     ]
    }
   ],
   "source": [
    "# Nested comprehensions\n",
    "# Transform a nested dictionary into a different nested dictionary.\n",
    "\n",
    "nested_dict = {'something':{'a':1}, 'something_else':{'b':2}}\n",
    "squared = {k: {k2 + \" \" + str(v2**2) \n",
    "               for (k2, v2) \n",
    "               in v.items()} \n",
    "           for (k, v) \n",
    "           in nested_dict.items()}\n",
    "print(squared)\n"
   ]
  },
  {
   "cell_type": "markdown",
   "metadata": {},
   "source": [
    "## Set comprehensions\n",
    "These patterns create or transform other collections into sets. A set is an unordered collection, without duplicates.\n",
    "\n",
    "Let's say we need to create a set from a list of numbers:"
   ]
  },
  {
   "cell_type": "code",
   "execution_count": 59,
   "metadata": {},
   "outputs": [
    {
     "name": "stdout",
     "output_type": "stream",
     "text": [
      "{1, 2, 3, 4, 5}\n"
     ]
    }
   ],
   "source": [
    "s = [1,1,1,2,2,3,3,3,3,3,4,4,5]\n",
    "\n",
    "normal_set = set(s)\n",
    "print(normal_set)"
   ]
  },
  {
   "cell_type": "code",
   "execution_count": 60,
   "metadata": {},
   "outputs": [
    {
     "name": "stdout",
     "output_type": "stream",
     "text": [
      "{1, 2, 3, 4, 5}\n"
     ]
    }
   ],
   "source": [
    "# Using comprehension.\n",
    "\n",
    "set_comprehension = {x for x in s}\n",
    "print(set_comprehension)"
   ]
  },
  {
   "cell_type": "code",
   "execution_count": 61,
   "metadata": {},
   "outputs": [
    {
     "name": "stdout",
     "output_type": "stream",
     "text": [
      "{3, 5, 7, 9, 11}\n"
     ]
    }
   ],
   "source": [
    "# With transformation\n",
    "set_comprehension = {x*2 + 1 for x in s}\n",
    "print(set_comprehension)"
   ]
  },
  {
   "cell_type": "code",
   "execution_count": 62,
   "metadata": {},
   "outputs": [
    {
     "name": "stdout",
     "output_type": "stream",
     "text": [
      "{9, 11}\n"
     ]
    }
   ],
   "source": [
    "# With conditions\n",
    "set_comprehension = {x*2 + 1 for x in s if x>3}\n",
    "print(set_comprehension)"
   ]
  },
  {
   "cell_type": "code",
   "execution_count": 63,
   "metadata": {},
   "outputs": [
    {
     "name": "stdout",
     "output_type": "stream",
     "text": [
      "{1, 8, 16, 25, 27}\n"
     ]
    }
   ],
   "source": [
    "# With complex conditions\n",
    "set_comprehension = {\n",
    "    (x**3 if x < 4 \n",
    "     else x**2 ) \n",
    "    for x in s}\n",
    "print(set_comprehension)"
   ]
  },
  {
   "cell_type": "markdown",
   "metadata": {},
   "source": [
    "## Examples from real life"
   ]
  },
  {
   "cell_type": "code",
   "execution_count": 64,
   "metadata": {},
   "outputs": [
    {
     "name": "stdout",
     "output_type": "stream",
     "text": [
      "[0, 1, 2, 3, 4, 5, 6, 7, 8, 9, 10, 11, 12, 13, 14]\n"
     ]
    }
   ],
   "source": [
    "# Flatten a matrix\n",
    "\n",
    "matrix = [range(0,5), range(5,10), range(10,15)]\n",
    "\n",
    "flatten = [column for row in matrix for column in row]\n",
    "print(flatten)"
   ]
  },
  {
   "cell_type": "code",
   "execution_count": 68,
   "metadata": {},
   "outputs": [
    {
     "name": "stdout",
     "output_type": "stream",
     "text": [
      "Mr Garla nderwood was a good man, bt nderpaid\n"
     ]
    }
   ],
   "source": [
    "# Removing a set of characters from a string\n",
    "\n",
    "forbidden_chars = [\"x\", \"z\", \"u\"]\n",
    "some_string = \"Mr Garlax Underwood was a good man, but underpaid\"\n",
    "removed_list = [char for char in some_string if char.lower() not in forbidden_chars]\n",
    "removed_as_string = \"\".join(removed_list)\n",
    "print(removed_as_string)"
   ]
  }
 ],
 "metadata": {
  "kernelspec": {
   "display_name": "Python 3",
   "language": "python",
   "name": "python3"
  },
  "language_info": {
   "codemirror_mode": {
    "name": "ipython",
    "version": 3
   },
   "file_extension": ".py",
   "mimetype": "text/x-python",
   "name": "python",
   "nbconvert_exporter": "python",
   "pygments_lexer": "ipython3",
   "version": "3.6.2"
  }
 },
 "nbformat": 4,
 "nbformat_minor": 2
}
